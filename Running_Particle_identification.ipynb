{
  "nbformat": 4,
  "nbformat_minor": 0,
  "metadata": {
    "kernelspec": {
      "display_name": "Python 3",
      "language": "python",
      "name": "python3"
    },
    "language_info": {
      "codemirror_mode": {
        "name": "ipython",
        "version": 3
      },
      "file_extension": ".py",
      "mimetype": "text/x-python",
      "name": "python",
      "nbconvert_exporter": "python",
      "pygments_lexer": "ipython3",
      "version": "3.6.5"
    },
    "colab": {
      "name": "Running-Particle_identification.ipynb",
      "provenance": [],
      "collapsed_sections": [],
      "include_colab_link": true
    },
    "accelerator": "GPU"
  },
  "cells": [
    {
      "cell_type": "markdown",
      "metadata": {
        "id": "view-in-github",
        "colab_type": "text"
      },
      "source": [
        "<a href=\"https://colab.research.google.com/github/MehaRima/2sxc-content-app/blob/master/Running_Particle_identification.ipynb\" target=\"_parent\"><img src=\"https://colab.research.google.com/assets/colab-badge.svg\" alt=\"Open In Colab\"/></a>"
      ]
    },
    {
      "cell_type": "markdown",
      "metadata": {
        "id": "nKh_5v9hpxS0",
        "colab_type": "text"
      },
      "source": [
        "# About\n",
        "\n",
        "In this programming assignment you will train a classifier to identify type of a particle. There are six particle types: electron, proton, muon, kaon, pion and ghost. Ghost is a particle with other type than the first five or a detector noise. \n",
        "\n",
        "Different particle types remain different responses in the detector systems or subdetectors. Thre are five systems: tracking system, ring imaging Cherenkov detector (RICH), electromagnetic and hadron calorimeters, and muon system.\n",
        "\n",
        "![pid](https://github.com/MehaRima/Advanced-Machine-Learning-Specialization/blob/master/Addressing%20Large%20Hadron%20Collider%20Challenges%20by%20Machine%20Learning/Week2/pic/pid.jpg?raw=1)\n",
        "\n",
        "You task is to identify a particle type using the responses in the detector systems. \n",
        "\n",
        "# Attention\n",
        "\n",
        "Data files you should download from https://github.com/hse-aml/hadron-collider-machine-learning/releases/tag/Week_2"
      ]
    },
    {
      "cell_type": "code",
      "metadata": {
        "id": "MoE3uNmrr48o",
        "colab_type": "code",
        "colab": {
          "base_uri": "https://localhost:8080/",
          "height": 54
        },
        "outputId": "f319d8e8-f612-4296-e0b3-3547ea2d5e0e"
      },
      "source": [
        "from google.colab import drive\n",
        "drive.mount('/content/drive')"
      ],
      "execution_count": 6,
      "outputs": [
        {
          "output_type": "stream",
          "text": [
            "Drive already mounted at /content/drive; to attempt to forcibly remount, call drive.mount(\"/content/drive\", force_remount=True).\n"
          ],
          "name": "stdout"
        }
      ]
    },
    {
      "cell_type": "code",
      "metadata": {
        "id": "qN_F2Gz4s92t",
        "colab_type": "code",
        "colab": {
          "base_uri": "https://localhost:8080/",
          "height": 1000
        },
        "outputId": "5eb19f81-cd31-45a0-afc5-0e3e7d38dcbf"
      },
      "source": [
        "!pip install matplotlib-venn\n",
        "!apt-get -qq install -y libfluidsynth1\n",
        "# To determine which version you're using:\n",
        "!pip show tensorflow\n",
        "\n",
        "# For the current version: \n",
        "!pip install --upgrade tensorflow\n",
        "\n",
        "# For a specific version:\n",
        "!pip install tensorflow==1.2\n",
        "\n",
        "# For the latest nightly build:\n",
        "!pip install tf-nightly\n",
        "# https://pypi.python.org/pypi/libarchive\n",
        "!apt-get -qq install -y libarchive-dev && pip install -U libarchive\n",
        "import libarchive\n",
        "!apt-get -qq install python-cartopy python3-cartopy\n",
        "import cartopy\n",
        "# https://pypi.python.org/pypi/pydot\n",
        "!apt-get -qq install -y graphviz && pip install pydot\n",
        "import pydot"
      ],
      "execution_count": 2,
      "outputs": [
        {
          "output_type": "stream",
          "text": [
            "Requirement already satisfied: matplotlib-venn in /usr/local/lib/python3.6/dist-packages (0.11.5)\n",
            "Requirement already satisfied: matplotlib in /usr/local/lib/python3.6/dist-packages (from matplotlib-venn) (3.2.2)\n",
            "Requirement already satisfied: scipy in /usr/local/lib/python3.6/dist-packages (from matplotlib-venn) (1.4.1)\n",
            "Requirement already satisfied: numpy in /usr/local/lib/python3.6/dist-packages (from matplotlib-venn) (1.18.5)\n",
            "Requirement already satisfied: pyparsing!=2.0.4,!=2.1.2,!=2.1.6,>=2.0.1 in /usr/local/lib/python3.6/dist-packages (from matplotlib->matplotlib-venn) (2.4.7)\n",
            "Requirement already satisfied: python-dateutil>=2.1 in /usr/local/lib/python3.6/dist-packages (from matplotlib->matplotlib-venn) (2.8.1)\n",
            "Requirement already satisfied: cycler>=0.10 in /usr/local/lib/python3.6/dist-packages (from matplotlib->matplotlib-venn) (0.10.0)\n",
            "Requirement already satisfied: kiwisolver>=1.0.1 in /usr/local/lib/python3.6/dist-packages (from matplotlib->matplotlib-venn) (1.2.0)\n",
            "Requirement already satisfied: six>=1.5 in /usr/local/lib/python3.6/dist-packages (from python-dateutil>=2.1->matplotlib->matplotlib-venn) (1.15.0)\n",
            "Selecting previously unselected package libfluidsynth1:amd64.\n",
            "(Reading database ... 144579 files and directories currently installed.)\n",
            "Preparing to unpack .../libfluidsynth1_1.1.9-1_amd64.deb ...\n",
            "Unpacking libfluidsynth1:amd64 (1.1.9-1) ...\n",
            "Setting up libfluidsynth1:amd64 (1.1.9-1) ...\n",
            "Processing triggers for libc-bin (2.27-3ubuntu1) ...\n",
            "/sbin/ldconfig.real: /usr/local/lib/python3.6/dist-packages/ideep4py/lib/libmkldnn.so.0 is not a symbolic link\n",
            "\n",
            "Name: tensorflow\n",
            "Version: 2.3.0\n",
            "Summary: TensorFlow is an open source machine learning framework for everyone.\n",
            "Home-page: https://www.tensorflow.org/\n",
            "Author: Google Inc.\n",
            "Author-email: packages@tensorflow.org\n",
            "License: Apache 2.0\n",
            "Location: /usr/local/lib/python3.6/dist-packages\n",
            "Requires: astunparse, opt-einsum, termcolor, protobuf, wrapt, keras-preprocessing, absl-py, tensorboard, tensorflow-estimator, gast, wheel, grpcio, numpy, six, google-pasta, scipy, h5py\n",
            "Required-by: fancyimpute\n",
            "Requirement already up-to-date: tensorflow in /usr/local/lib/python3.6/dist-packages (2.3.0)\n",
            "Requirement already satisfied, skipping upgrade: grpcio>=1.8.6 in /usr/local/lib/python3.6/dist-packages (from tensorflow) (1.31.0)\n",
            "Requirement already satisfied, skipping upgrade: h5py<2.11.0,>=2.10.0 in /usr/local/lib/python3.6/dist-packages (from tensorflow) (2.10.0)\n",
            "Requirement already satisfied, skipping upgrade: absl-py>=0.7.0 in /usr/local/lib/python3.6/dist-packages (from tensorflow) (0.8.1)\n",
            "Requirement already satisfied, skipping upgrade: wrapt>=1.11.1 in /usr/local/lib/python3.6/dist-packages (from tensorflow) (1.12.1)\n",
            "Requirement already satisfied, skipping upgrade: six>=1.12.0 in /usr/local/lib/python3.6/dist-packages (from tensorflow) (1.15.0)\n",
            "Requirement already satisfied, skipping upgrade: protobuf>=3.9.2 in /usr/local/lib/python3.6/dist-packages (from tensorflow) (3.12.4)\n",
            "Requirement already satisfied, skipping upgrade: termcolor>=1.1.0 in /usr/local/lib/python3.6/dist-packages (from tensorflow) (1.1.0)\n",
            "Requirement already satisfied, skipping upgrade: keras-preprocessing<1.2,>=1.1.1 in /usr/local/lib/python3.6/dist-packages (from tensorflow) (1.1.2)\n",
            "Requirement already satisfied, skipping upgrade: tensorflow-estimator<2.4.0,>=2.3.0 in /usr/local/lib/python3.6/dist-packages (from tensorflow) (2.3.0)\n",
            "Requirement already satisfied, skipping upgrade: opt-einsum>=2.3.2 in /usr/local/lib/python3.6/dist-packages (from tensorflow) (3.3.0)\n",
            "Requirement already satisfied, skipping upgrade: scipy==1.4.1 in /usr/local/lib/python3.6/dist-packages (from tensorflow) (1.4.1)\n",
            "Requirement already satisfied, skipping upgrade: astunparse==1.6.3 in /usr/local/lib/python3.6/dist-packages (from tensorflow) (1.6.3)\n",
            "Requirement already satisfied, skipping upgrade: gast==0.3.3 in /usr/local/lib/python3.6/dist-packages (from tensorflow) (0.3.3)\n",
            "Requirement already satisfied, skipping upgrade: tensorboard<3,>=2.3.0 in /usr/local/lib/python3.6/dist-packages (from tensorflow) (2.3.0)\n",
            "Requirement already satisfied, skipping upgrade: google-pasta>=0.1.8 in /usr/local/lib/python3.6/dist-packages (from tensorflow) (0.2.0)\n",
            "Requirement already satisfied, skipping upgrade: wheel>=0.26 in /usr/local/lib/python3.6/dist-packages (from tensorflow) (0.35.1)\n",
            "Requirement already satisfied, skipping upgrade: numpy<1.19.0,>=1.16.0 in /usr/local/lib/python3.6/dist-packages (from tensorflow) (1.18.5)\n",
            "Requirement already satisfied, skipping upgrade: setuptools in /usr/local/lib/python3.6/dist-packages (from protobuf>=3.9.2->tensorflow) (49.6.0)\n",
            "Requirement already satisfied, skipping upgrade: google-auth<2,>=1.6.3 in /usr/local/lib/python3.6/dist-packages (from tensorboard<3,>=2.3.0->tensorflow) (1.17.2)\n",
            "Requirement already satisfied, skipping upgrade: requests<3,>=2.21.0 in /usr/local/lib/python3.6/dist-packages (from tensorboard<3,>=2.3.0->tensorflow) (2.23.0)\n",
            "Requirement already satisfied, skipping upgrade: google-auth-oauthlib<0.5,>=0.4.1 in /usr/local/lib/python3.6/dist-packages (from tensorboard<3,>=2.3.0->tensorflow) (0.4.1)\n",
            "Requirement already satisfied, skipping upgrade: tensorboard-plugin-wit>=1.6.0 in /usr/local/lib/python3.6/dist-packages (from tensorboard<3,>=2.3.0->tensorflow) (1.7.0)\n",
            "Requirement already satisfied, skipping upgrade: markdown>=2.6.8 in /usr/local/lib/python3.6/dist-packages (from tensorboard<3,>=2.3.0->tensorflow) (3.2.2)\n",
            "Requirement already satisfied, skipping upgrade: werkzeug>=0.11.15 in /usr/local/lib/python3.6/dist-packages (from tensorboard<3,>=2.3.0->tensorflow) (1.0.1)\n",
            "Requirement already satisfied, skipping upgrade: pyasn1-modules>=0.2.1 in /usr/local/lib/python3.6/dist-packages (from google-auth<2,>=1.6.3->tensorboard<3,>=2.3.0->tensorflow) (0.2.8)\n",
            "Requirement already satisfied, skipping upgrade: cachetools<5.0,>=2.0.0 in /usr/local/lib/python3.6/dist-packages (from google-auth<2,>=1.6.3->tensorboard<3,>=2.3.0->tensorflow) (4.1.1)\n",
            "Requirement already satisfied, skipping upgrade: rsa<5,>=3.1.4; python_version >= \"3\" in /usr/local/lib/python3.6/dist-packages (from google-auth<2,>=1.6.3->tensorboard<3,>=2.3.0->tensorflow) (4.6)\n",
            "Requirement already satisfied, skipping upgrade: idna<3,>=2.5 in /usr/local/lib/python3.6/dist-packages (from requests<3,>=2.21.0->tensorboard<3,>=2.3.0->tensorflow) (2.10)\n",
            "Requirement already satisfied, skipping upgrade: chardet<4,>=3.0.2 in /usr/local/lib/python3.6/dist-packages (from requests<3,>=2.21.0->tensorboard<3,>=2.3.0->tensorflow) (3.0.4)\n",
            "Requirement already satisfied, skipping upgrade: urllib3!=1.25.0,!=1.25.1,<1.26,>=1.21.1 in /usr/local/lib/python3.6/dist-packages (from requests<3,>=2.21.0->tensorboard<3,>=2.3.0->tensorflow) (1.24.3)\n",
            "Requirement already satisfied, skipping upgrade: certifi>=2017.4.17 in /usr/local/lib/python3.6/dist-packages (from requests<3,>=2.21.0->tensorboard<3,>=2.3.0->tensorflow) (2020.6.20)\n",
            "Requirement already satisfied, skipping upgrade: requests-oauthlib>=0.7.0 in /usr/local/lib/python3.6/dist-packages (from google-auth-oauthlib<0.5,>=0.4.1->tensorboard<3,>=2.3.0->tensorflow) (1.3.0)\n",
            "Requirement already satisfied, skipping upgrade: importlib-metadata; python_version < \"3.8\" in /usr/local/lib/python3.6/dist-packages (from markdown>=2.6.8->tensorboard<3,>=2.3.0->tensorflow) (1.7.0)\n",
            "Requirement already satisfied, skipping upgrade: pyasn1<0.5.0,>=0.4.6 in /usr/local/lib/python3.6/dist-packages (from pyasn1-modules>=0.2.1->google-auth<2,>=1.6.3->tensorboard<3,>=2.3.0->tensorflow) (0.4.8)\n",
            "Requirement already satisfied, skipping upgrade: oauthlib>=3.0.0 in /usr/local/lib/python3.6/dist-packages (from requests-oauthlib>=0.7.0->google-auth-oauthlib<0.5,>=0.4.1->tensorboard<3,>=2.3.0->tensorflow) (3.1.0)\n",
            "Requirement already satisfied, skipping upgrade: zipp>=0.5 in /usr/local/lib/python3.6/dist-packages (from importlib-metadata; python_version < \"3.8\"->markdown>=2.6.8->tensorboard<3,>=2.3.0->tensorflow) (3.1.0)\n",
            "Collecting tensorflow==1.2\n",
            "\u001b[?25l  Downloading https://files.pythonhosted.org/packages/5e/55/7995cc1e9e60fa37ea90e6777d832e75026fde5c6109215d892aaff2e9b7/tensorflow-1.2.0-cp36-cp36m-manylinux1_x86_64.whl (35.0MB)\n",
            "\u001b[K     |████████████████████████████████| 35.0MB 90kB/s \n",
            "\u001b[?25hCollecting bleach==1.5.0\n",
            "  Downloading https://files.pythonhosted.org/packages/33/70/86c5fec937ea4964184d4d6c4f0b9551564f821e1c3575907639036d9b90/bleach-1.5.0-py2.py3-none-any.whl\n",
            "Requirement already satisfied: wheel>=0.26 in /usr/local/lib/python3.6/dist-packages (from tensorflow==1.2) (0.35.1)\n",
            "Collecting backports.weakref==1.0rc1\n",
            "  Downloading https://files.pythonhosted.org/packages/6a/f7/ae34b6818b603e264f26fe7db2bd07850ce331ce2fde74b266d61f4a2d87/backports.weakref-1.0rc1-py3-none-any.whl\n",
            "Collecting html5lib==0.9999999\n",
            "\u001b[?25l  Downloading https://files.pythonhosted.org/packages/ae/ae/bcb60402c60932b32dfaf19bb53870b29eda2cd17551ba5639219fb5ebf9/html5lib-0.9999999.tar.gz (889kB)\n",
            "\u001b[K     |████████████████████████████████| 890kB 55.1MB/s \n",
            "\u001b[?25hRequirement already satisfied: numpy>=1.11.0 in /usr/local/lib/python3.6/dist-packages (from tensorflow==1.2) (1.18.5)\n",
            "Requirement already satisfied: protobuf>=3.2.0 in /usr/local/lib/python3.6/dist-packages (from tensorflow==1.2) (3.12.4)\n",
            "Requirement already satisfied: werkzeug>=0.11.10 in /usr/local/lib/python3.6/dist-packages (from tensorflow==1.2) (1.0.1)\n",
            "Requirement already satisfied: six>=1.10.0 in /usr/local/lib/python3.6/dist-packages (from tensorflow==1.2) (1.15.0)\n",
            "Collecting markdown==2.2.0\n",
            "\u001b[?25l  Downloading https://files.pythonhosted.org/packages/ac/99/288a81a38526a42c98b5b9832c6e339ca8d5dd38b19a53abfac7c8037c7f/Markdown-2.2.0.tar.gz (236kB)\n",
            "\u001b[K     |████████████████████████████████| 245kB 54.4MB/s \n",
            "\u001b[?25hRequirement already satisfied: setuptools in /usr/local/lib/python3.6/dist-packages (from protobuf>=3.2.0->tensorflow==1.2) (49.6.0)\n",
            "Building wheels for collected packages: html5lib, markdown\n",
            "  Building wheel for html5lib (setup.py) ... \u001b[?25l\u001b[?25hdone\n",
            "  Created wheel for html5lib: filename=html5lib-0.9999999-cp36-none-any.whl size=107220 sha256=64326e834ffb58c20c1c54f9fcf5334073894a4288e1280b3afa221667269963\n",
            "  Stored in directory: /root/.cache/pip/wheels/50/ae/f9/d2b189788efcf61d1ee0e36045476735c838898eef1cad6e29\n",
            "  Building wheel for markdown (setup.py) ... \u001b[?25l\u001b[?25hdone\n",
            "  Created wheel for markdown: filename=Markdown-2.2.0-cp36-none-any.whl size=136281 sha256=de7e0a188dbdc1271aca1cb2e976567f21cd27b7688e3dd7134d0e57015c2724\n",
            "  Stored in directory: /root/.cache/pip/wheels/b6/52/17/f0af18e3e0ec6fa60b361ffed15b4c3468f6f3bcdb87fbe079\n",
            "Successfully built html5lib markdown\n",
            "\u001b[31mERROR: tensorboard 2.3.0 has requirement markdown>=2.6.8, but you'll have markdown 2.2.0 which is incompatible.\u001b[0m\n",
            "Installing collected packages: html5lib, bleach, backports.weakref, markdown, tensorflow\n",
            "  Found existing installation: html5lib 1.0.1\n",
            "    Uninstalling html5lib-1.0.1:\n",
            "      Successfully uninstalled html5lib-1.0.1\n",
            "  Found existing installation: bleach 3.1.5\n",
            "    Uninstalling bleach-3.1.5:\n",
            "      Successfully uninstalled bleach-3.1.5\n",
            "  Found existing installation: Markdown 3.2.2\n",
            "    Uninstalling Markdown-3.2.2:\n",
            "      Successfully uninstalled Markdown-3.2.2\n",
            "  Found existing installation: tensorflow 2.3.0\n",
            "    Uninstalling tensorflow-2.3.0:\n",
            "      Successfully uninstalled tensorflow-2.3.0\n",
            "Successfully installed backports.weakref-1.0rc1 bleach-1.5.0 html5lib-0.9999999 markdown-2.2.0 tensorflow-1.2.0\n",
            "Collecting tf-nightly\n",
            "\u001b[?25l  Downloading https://files.pythonhosted.org/packages/55/d6/039aab0ded8d80583f7b7efe77b8599dd094e42ddc359df33770589503f7/tf_nightly-2.4.0.dev20200911-cp36-cp36m-manylinux2010_x86_64.whl (390.1MB)\n",
            "\u001b[K     |████████████████████████████████| 390.2MB 42kB/s \n",
            "\u001b[?25hRequirement already satisfied: termcolor>=1.1.0 in /usr/local/lib/python3.6/dist-packages (from tf-nightly) (1.1.0)\n",
            "Requirement already satisfied: wrapt>=1.11.1 in /usr/local/lib/python3.6/dist-packages (from tf-nightly) (1.12.1)\n",
            "Collecting tb-nightly<3.0.0a0,>=2.4.0a0\n",
            "\u001b[?25l  Downloading https://files.pythonhosted.org/packages/7b/36/7f640cf519859cc15b2c4de5f7e415f368a3893b2aed50d7af59574ae178/tb_nightly-2.4.0a20200911-py3-none-any.whl (9.2MB)\n",
            "\u001b[K     |████████████████████████████████| 9.2MB 54.2MB/s \n",
            "\u001b[?25hRequirement already satisfied: absl-py>=0.7.0 in /usr/local/lib/python3.6/dist-packages (from tf-nightly) (0.8.1)\n",
            "Requirement already satisfied: grpcio>=1.8.6 in /usr/local/lib/python3.6/dist-packages (from tf-nightly) (1.31.0)\n",
            "Requirement already satisfied: astunparse==1.6.3 in /usr/local/lib/python3.6/dist-packages (from tf-nightly) (1.6.3)\n",
            "Collecting flatbuffers>=1.12\n",
            "  Downloading https://files.pythonhosted.org/packages/eb/26/712e578c5f14e26ae3314c39a1bdc4eb2ec2f4ddc89b708cf8e0a0d20423/flatbuffers-1.12-py2.py3-none-any.whl\n",
            "Requirement already satisfied: wheel>=0.26 in /usr/local/lib/python3.6/dist-packages (from tf-nightly) (0.35.1)\n",
            "Requirement already satisfied: google-pasta>=0.1.8 in /usr/local/lib/python3.6/dist-packages (from tf-nightly) (0.2.0)\n",
            "Requirement already satisfied: six>=1.12.0 in /usr/local/lib/python3.6/dist-packages (from tf-nightly) (1.15.0)\n",
            "Requirement already satisfied: numpy<1.19.0,>=1.16.0 in /usr/local/lib/python3.6/dist-packages (from tf-nightly) (1.18.5)\n",
            "Requirement already satisfied: protobuf>=3.9.2 in /usr/local/lib/python3.6/dist-packages (from tf-nightly) (3.12.4)\n",
            "Requirement already satisfied: typing-extensions>=3.7.4.2 in /usr/local/lib/python3.6/dist-packages (from tf-nightly) (3.7.4.3)\n",
            "Collecting tf-estimator-nightly\n",
            "\u001b[?25l  Downloading https://files.pythonhosted.org/packages/e1/f4/67946cbb197550c28ac990ce0bd84a9c8c94ffe5f0c75977d1fc22e62004/tf_estimator_nightly-2.4.0.dev2020091101-py2.py3-none-any.whl (460kB)\n",
            "\u001b[K     |████████████████████████████████| 460kB 58.0MB/s \n",
            "\u001b[?25hRequirement already satisfied: h5py<2.11.0,>=2.10.0 in /usr/local/lib/python3.6/dist-packages (from tf-nightly) (2.10.0)\n",
            "Requirement already satisfied: keras-preprocessing<1.2,>=1.1.1 in /usr/local/lib/python3.6/dist-packages (from tf-nightly) (1.1.2)\n",
            "Requirement already satisfied: gast==0.3.3 in /usr/local/lib/python3.6/dist-packages (from tf-nightly) (0.3.3)\n",
            "Requirement already satisfied: opt-einsum>=2.3.2 in /usr/local/lib/python3.6/dist-packages (from tf-nightly) (3.3.0)\n",
            "Requirement already satisfied: google-auth<2,>=1.6.3 in /usr/local/lib/python3.6/dist-packages (from tb-nightly<3.0.0a0,>=2.4.0a0->tf-nightly) (1.17.2)\n",
            "Requirement already satisfied: tensorboard-plugin-wit>=1.6.0 in /usr/local/lib/python3.6/dist-packages (from tb-nightly<3.0.0a0,>=2.4.0a0->tf-nightly) (1.7.0)\n",
            "Requirement already satisfied: google-auth-oauthlib<0.5,>=0.4.1 in /usr/local/lib/python3.6/dist-packages (from tb-nightly<3.0.0a0,>=2.4.0a0->tf-nightly) (0.4.1)\n",
            "Collecting markdown>=2.6.8\n",
            "\u001b[?25l  Downloading https://files.pythonhosted.org/packages/a4/63/eaec2bd025ab48c754b55e8819af0f6a69e2b1e187611dd40cbbe101ee7f/Markdown-3.2.2-py3-none-any.whl (88kB)\n",
            "\u001b[K     |████████████████████████████████| 92kB 13.4MB/s \n",
            "\u001b[?25hRequirement already satisfied: setuptools>=41.0.0 in /usr/local/lib/python3.6/dist-packages (from tb-nightly<3.0.0a0,>=2.4.0a0->tf-nightly) (49.6.0)\n",
            "Requirement already satisfied: werkzeug>=0.11.15 in /usr/local/lib/python3.6/dist-packages (from tb-nightly<3.0.0a0,>=2.4.0a0->tf-nightly) (1.0.1)\n",
            "Requirement already satisfied: requests<3,>=2.21.0 in /usr/local/lib/python3.6/dist-packages (from tb-nightly<3.0.0a0,>=2.4.0a0->tf-nightly) (2.23.0)\n",
            "Requirement already satisfied: cachetools<5.0,>=2.0.0 in /usr/local/lib/python3.6/dist-packages (from google-auth<2,>=1.6.3->tb-nightly<3.0.0a0,>=2.4.0a0->tf-nightly) (4.1.1)\n",
            "Requirement already satisfied: pyasn1-modules>=0.2.1 in /usr/local/lib/python3.6/dist-packages (from google-auth<2,>=1.6.3->tb-nightly<3.0.0a0,>=2.4.0a0->tf-nightly) (0.2.8)\n",
            "Requirement already satisfied: rsa<5,>=3.1.4; python_version >= \"3\" in /usr/local/lib/python3.6/dist-packages (from google-auth<2,>=1.6.3->tb-nightly<3.0.0a0,>=2.4.0a0->tf-nightly) (4.6)\n",
            "Requirement already satisfied: requests-oauthlib>=0.7.0 in /usr/local/lib/python3.6/dist-packages (from google-auth-oauthlib<0.5,>=0.4.1->tb-nightly<3.0.0a0,>=2.4.0a0->tf-nightly) (1.3.0)\n",
            "Requirement already satisfied: importlib-metadata; python_version < \"3.8\" in /usr/local/lib/python3.6/dist-packages (from markdown>=2.6.8->tb-nightly<3.0.0a0,>=2.4.0a0->tf-nightly) (1.7.0)\n",
            "Requirement already satisfied: urllib3!=1.25.0,!=1.25.1,<1.26,>=1.21.1 in /usr/local/lib/python3.6/dist-packages (from requests<3,>=2.21.0->tb-nightly<3.0.0a0,>=2.4.0a0->tf-nightly) (1.24.3)\n",
            "Requirement already satisfied: certifi>=2017.4.17 in /usr/local/lib/python3.6/dist-packages (from requests<3,>=2.21.0->tb-nightly<3.0.0a0,>=2.4.0a0->tf-nightly) (2020.6.20)\n",
            "Requirement already satisfied: idna<3,>=2.5 in /usr/local/lib/python3.6/dist-packages (from requests<3,>=2.21.0->tb-nightly<3.0.0a0,>=2.4.0a0->tf-nightly) (2.10)\n",
            "Requirement already satisfied: chardet<4,>=3.0.2 in /usr/local/lib/python3.6/dist-packages (from requests<3,>=2.21.0->tb-nightly<3.0.0a0,>=2.4.0a0->tf-nightly) (3.0.4)\n",
            "Requirement already satisfied: pyasn1<0.5.0,>=0.4.6 in /usr/local/lib/python3.6/dist-packages (from pyasn1-modules>=0.2.1->google-auth<2,>=1.6.3->tb-nightly<3.0.0a0,>=2.4.0a0->tf-nightly) (0.4.8)\n",
            "Requirement already satisfied: oauthlib>=3.0.0 in /usr/local/lib/python3.6/dist-packages (from requests-oauthlib>=0.7.0->google-auth-oauthlib<0.5,>=0.4.1->tb-nightly<3.0.0a0,>=2.4.0a0->tf-nightly) (3.1.0)\n",
            "Requirement already satisfied: zipp>=0.5 in /usr/local/lib/python3.6/dist-packages (from importlib-metadata; python_version < \"3.8\"->markdown>=2.6.8->tb-nightly<3.0.0a0,>=2.4.0a0->tf-nightly) (3.1.0)\n",
            "\u001b[31mERROR: tensorflow 1.2.0 has requirement markdown==2.2.0, but you'll have markdown 3.2.2 which is incompatible.\u001b[0m\n",
            "Installing collected packages: markdown, tb-nightly, flatbuffers, tf-estimator-nightly, tf-nightly\n",
            "  Found existing installation: Markdown 2.2.0\n",
            "    Uninstalling Markdown-2.2.0:\n",
            "      Successfully uninstalled Markdown-2.2.0\n",
            "Successfully installed flatbuffers-1.12 markdown-3.2.2 tb-nightly-2.4.0a20200911 tf-estimator-nightly-2.4.0.dev2020091101 tf-nightly-2.4.0.dev20200911\n",
            "Selecting previously unselected package libarchive-dev:amd64.\n",
            "(Reading database ... 144584 files and directories currently installed.)\n",
            "Preparing to unpack .../libarchive-dev_3.2.2-3.1ubuntu0.6_amd64.deb ...\n",
            "Unpacking libarchive-dev:amd64 (3.2.2-3.1ubuntu0.6) ...\n",
            "Setting up libarchive-dev:amd64 (3.2.2-3.1ubuntu0.6) ...\n",
            "Processing triggers for man-db (2.8.3-2ubuntu0.1) ...\n",
            "Collecting libarchive\n",
            "  Downloading https://files.pythonhosted.org/packages/bf/d4/26f5c9835d4d648e4f22b5fb91288457698e928aaf9d4ab7eff405b7ef03/libarchive-0.4.7.tar.gz\n",
            "Collecting nose\n",
            "\u001b[?25l  Downloading https://files.pythonhosted.org/packages/15/d8/dd071918c040f50fa1cf80da16423af51ff8ce4a0f2399b7bf8de45ac3d9/nose-1.3.7-py3-none-any.whl (154kB)\n",
            "\u001b[K     |████████████████████████████████| 163kB 6.7MB/s \n",
            "\u001b[?25hBuilding wheels for collected packages: libarchive\n",
            "  Building wheel for libarchive (setup.py) ... \u001b[?25l\u001b[?25hdone\n",
            "  Created wheel for libarchive: filename=libarchive-0.4.7-cp36-none-any.whl size=31632 sha256=8b3e2e476f3c35accdea174f504e6c1678b6f42f0eb63a2405418baf770fa21e\n",
            "  Stored in directory: /root/.cache/pip/wheels/3b/5c/fa/92ee330d259e8fa5bedbd53f67040710fe81cfa463b8711d26\n",
            "Successfully built libarchive\n",
            "Installing collected packages: nose, libarchive\n",
            "Successfully installed libarchive-0.4.7 nose-1.3.7\n",
            "Selecting previously unselected package python-pkg-resources.\n",
            "(Reading database ... 144640 files and directories currently installed.)\n",
            "Preparing to unpack .../0-python-pkg-resources_39.0.1-2_all.deb ...\n",
            "Unpacking python-pkg-resources (39.0.1-2) ...\n",
            "Selecting previously unselected package python-pyshp.\n",
            "Preparing to unpack .../1-python-pyshp_1.2.12+ds-1_all.deb ...\n",
            "Unpacking python-pyshp (1.2.12+ds-1) ...\n",
            "Selecting previously unselected package python-shapely.\n",
            "Preparing to unpack .../2-python-shapely_1.6.4-1_amd64.deb ...\n",
            "Unpacking python-shapely (1.6.4-1) ...\n",
            "Selecting previously unselected package python-six.\n",
            "Preparing to unpack .../3-python-six_1.11.0-2_all.deb ...\n",
            "Unpacking python-six (1.11.0-2) ...\n",
            "Selecting previously unselected package python-cartopy:amd64.\n",
            "Preparing to unpack .../4-python-cartopy_0.14.2+dfsg1-2build3_amd64.deb ...\n",
            "Unpacking python-cartopy:amd64 (0.14.2+dfsg1-2build3) ...\n",
            "Selecting previously unselected package python3-pkg-resources.\n",
            "Preparing to unpack .../5-python3-pkg-resources_39.0.1-2_all.deb ...\n",
            "Unpacking python3-pkg-resources (39.0.1-2) ...\n",
            "Selecting previously unselected package python3-pyshp.\n",
            "Preparing to unpack .../6-python3-pyshp_1.2.12+ds-1_all.deb ...\n",
            "Unpacking python3-pyshp (1.2.12+ds-1) ...\n",
            "Selecting previously unselected package python3-shapely.\n",
            "Preparing to unpack .../7-python3-shapely_1.6.4-1_amd64.deb ...\n",
            "Unpacking python3-shapely (1.6.4-1) ...\n",
            "Selecting previously unselected package python3-six.\n",
            "Preparing to unpack .../8-python3-six_1.11.0-2_all.deb ...\n",
            "Unpacking python3-six (1.11.0-2) ...\n",
            "Selecting previously unselected package python3-cartopy:amd64.\n",
            "Preparing to unpack .../9-python3-cartopy_0.14.2+dfsg1-2build3_amd64.deb ...\n",
            "Unpacking python3-cartopy:amd64 (0.14.2+dfsg1-2build3) ...\n",
            "Setting up python-shapely (1.6.4-1) ...\n",
            "Setting up python-pyshp (1.2.12+ds-1) ...\n",
            "Setting up python3-six (1.11.0-2) ...\n",
            "Setting up python3-shapely (1.6.4-1) ...\n",
            "Setting up python3-pyshp (1.2.12+ds-1) ...\n",
            "Setting up python3-pkg-resources (39.0.1-2) ...\n",
            "Setting up python-pkg-resources (39.0.1-2) ...\n",
            "Setting up python-six (1.11.0-2) ...\n",
            "Setting up python3-cartopy:amd64 (0.14.2+dfsg1-2build3) ...\n",
            "Setting up python-cartopy:amd64 (0.14.2+dfsg1-2build3) ...\n",
            "Requirement already satisfied: pydot in /usr/local/lib/python3.6/dist-packages (1.3.0)\n",
            "Requirement already satisfied: pyparsing>=2.1.4 in /usr/local/lib/python3.6/dist-packages (from pydot) (2.4.7)\n"
          ],
          "name": "stdout"
        }
      ]
    },
    {
      "cell_type": "code",
      "metadata": {
        "id": "onTsd-hupxS3",
        "colab_type": "code",
        "colab": {}
      },
      "source": [
        "%matplotlib inline\n",
        "import matplotlib.pyplot as plt\n",
        "import pandas\n",
        "import numpy\n",
        "from sklearn.model_selection import train_test_split\n",
        "from sklearn.metrics import log_loss\n",
        "import utils"
      ],
      "execution_count": 3,
      "outputs": []
    },
    {
      "cell_type": "markdown",
      "metadata": {
        "id": "vR2-0-yIpxS_",
        "colab_type": "text"
      },
      "source": [
        "# Download data\n",
        "\n",
        "Download data used to train classifiers."
      ]
    },
    {
      "cell_type": "markdown",
      "metadata": {
        "id": "6g1oYlLUpxTA",
        "colab_type": "text"
      },
      "source": [
        "### Read training file"
      ]
    },
    {
      "cell_type": "code",
      "metadata": {
        "id": "0ZcBc_oSpxTC",
        "colab_type": "code",
        "colab": {}
      },
      "source": [
        "data = pandas.read_csv('training.csv.gz')"
      ],
      "execution_count": 4,
      "outputs": []
    },
    {
      "cell_type": "code",
      "metadata": {
        "id": "X9u-q-yZpxTJ",
        "colab_type": "code",
        "colab": {
          "base_uri": "https://localhost:8080/",
          "height": 224
        },
        "outputId": "dab8cf98-c50a-4e91-a5a6-362ac5900774"
      },
      "source": [
        "data.head()"
      ],
      "execution_count": 5,
      "outputs": [
        {
          "output_type": "execute_result",
          "data": {
            "text/html": [
              "<div>\n",
              "<style scoped>\n",
              "    .dataframe tbody tr th:only-of-type {\n",
              "        vertical-align: middle;\n",
              "    }\n",
              "\n",
              "    .dataframe tbody tr th {\n",
              "        vertical-align: top;\n",
              "    }\n",
              "\n",
              "    .dataframe thead th {\n",
              "        text-align: right;\n",
              "    }\n",
              "</style>\n",
              "<table border=\"1\" class=\"dataframe\">\n",
              "  <thead>\n",
              "    <tr style=\"text-align: right;\">\n",
              "      <th></th>\n",
              "      <th>TrackP</th>\n",
              "      <th>TrackNDoFSubdetector2</th>\n",
              "      <th>BremDLLbeElectron</th>\n",
              "      <th>MuonLooseFlag</th>\n",
              "      <th>FlagSpd</th>\n",
              "      <th>SpdE</th>\n",
              "      <th>EcalDLLbeElectron</th>\n",
              "      <th>DLLmuon</th>\n",
              "      <th>RICHpFlagElectron</th>\n",
              "      <th>EcalDLLbeMuon</th>\n",
              "      <th>TrackQualitySubdetector2</th>\n",
              "      <th>FlagPrs</th>\n",
              "      <th>DLLelectron</th>\n",
              "      <th>DLLkaon</th>\n",
              "      <th>EcalE</th>\n",
              "      <th>TrackQualityPerNDoF</th>\n",
              "      <th>DLLproton</th>\n",
              "      <th>PrsDLLbeElectron</th>\n",
              "      <th>FlagRICH1</th>\n",
              "      <th>MuonLLbeBCK</th>\n",
              "      <th>FlagHcal</th>\n",
              "      <th>EcalShowerLongitudinalParameter</th>\n",
              "      <th>Calo2dFitQuality</th>\n",
              "      <th>TrackPt</th>\n",
              "      <th>TrackDistanceToZ</th>\n",
              "      <th>RICHpFlagPion</th>\n",
              "      <th>HcalDLLbeElectron</th>\n",
              "      <th>Calo3dFitQuality</th>\n",
              "      <th>FlagEcal</th>\n",
              "      <th>MuonLLbeMuon</th>\n",
              "      <th>TrackNDoFSubdetector1</th>\n",
              "      <th>RICHpFlagProton</th>\n",
              "      <th>RICHpFlagKaon</th>\n",
              "      <th>GhostProbability</th>\n",
              "      <th>TrackQualitySubdetector1</th>\n",
              "      <th>Label</th>\n",
              "      <th>RICH_DLLbeBCK</th>\n",
              "      <th>FlagRICH2</th>\n",
              "      <th>FlagBrem</th>\n",
              "      <th>HcalDLLbeMuon</th>\n",
              "      <th>TrackNDoF</th>\n",
              "      <th>RICHpFlagMuon</th>\n",
              "      <th>RICH_DLLbeKaon</th>\n",
              "      <th>RICH_DLLbeElectron</th>\n",
              "      <th>HcalE</th>\n",
              "      <th>MuonFlag</th>\n",
              "      <th>FlagMuon</th>\n",
              "      <th>PrsE</th>\n",
              "      <th>RICH_DLLbeMuon</th>\n",
              "      <th>RICH_DLLbeProton</th>\n",
              "    </tr>\n",
              "  </thead>\n",
              "  <tbody>\n",
              "    <tr>\n",
              "      <th>0</th>\n",
              "      <td>74791.156263</td>\n",
              "      <td>15.0</td>\n",
              "      <td>0.232275</td>\n",
              "      <td>1.0</td>\n",
              "      <td>1.0</td>\n",
              "      <td>3.2</td>\n",
              "      <td>-2.505719</td>\n",
              "      <td>6.604153</td>\n",
              "      <td>1.0</td>\n",
              "      <td>1.929960</td>\n",
              "      <td>17.585680</td>\n",
              "      <td>1.0</td>\n",
              "      <td>-6.411697</td>\n",
              "      <td>-7.213295</td>\n",
              "      <td>0.000001</td>\n",
              "      <td>1.467550</td>\n",
              "      <td>-26.667494</td>\n",
              "      <td>-2.730674</td>\n",
              "      <td>1.0</td>\n",
              "      <td>-5.152923</td>\n",
              "      <td>1.0</td>\n",
              "      <td>-999.000000</td>\n",
              "      <td>19.954819</td>\n",
              "      <td>3141.930677</td>\n",
              "      <td>0.613640</td>\n",
              "      <td>1.0</td>\n",
              "      <td>-0.909544</td>\n",
              "      <td>-999.000000</td>\n",
              "      <td>1.0</td>\n",
              "      <td>-0.661823</td>\n",
              "      <td>4.0</td>\n",
              "      <td>1.0</td>\n",
              "      <td>1.0</td>\n",
              "      <td>0.018913</td>\n",
              "      <td>5.366212</td>\n",
              "      <td>Muon</td>\n",
              "      <td>-21.913000</td>\n",
              "      <td>1.0</td>\n",
              "      <td>1.0</td>\n",
              "      <td>1.015345</td>\n",
              "      <td>28.0</td>\n",
              "      <td>1.0</td>\n",
              "      <td>-7.213300</td>\n",
              "      <td>-0.280200</td>\n",
              "      <td>5586.589846</td>\n",
              "      <td>1.0</td>\n",
              "      <td>1.0</td>\n",
              "      <td>10.422315</td>\n",
              "      <td>-2.081143e-07</td>\n",
              "      <td>-24.824400</td>\n",
              "    </tr>\n",
              "    <tr>\n",
              "      <th>1</th>\n",
              "      <td>2738.489989</td>\n",
              "      <td>15.0</td>\n",
              "      <td>-0.357748</td>\n",
              "      <td>0.0</td>\n",
              "      <td>1.0</td>\n",
              "      <td>3.2</td>\n",
              "      <td>1.864351</td>\n",
              "      <td>0.263651</td>\n",
              "      <td>1.0</td>\n",
              "      <td>-2.061959</td>\n",
              "      <td>20.230680</td>\n",
              "      <td>1.0</td>\n",
              "      <td>5.453014</td>\n",
              "      <td>0.000006</td>\n",
              "      <td>1531.542000</td>\n",
              "      <td>3.570540</td>\n",
              "      <td>-0.711194</td>\n",
              "      <td>1.773806</td>\n",
              "      <td>1.0</td>\n",
              "      <td>-999.000000</td>\n",
              "      <td>0.0</td>\n",
              "      <td>33.187644</td>\n",
              "      <td>0.037601</td>\n",
              "      <td>199.573653</td>\n",
              "      <td>0.465480</td>\n",
              "      <td>1.0</td>\n",
              "      <td>0.434909</td>\n",
              "      <td>13.667366</td>\n",
              "      <td>1.0</td>\n",
              "      <td>-999.000000</td>\n",
              "      <td>10.0</td>\n",
              "      <td>0.0</td>\n",
              "      <td>0.0</td>\n",
              "      <td>0.351206</td>\n",
              "      <td>9.144749</td>\n",
              "      <td>Ghost</td>\n",
              "      <td>-0.703617</td>\n",
              "      <td>0.0</td>\n",
              "      <td>1.0</td>\n",
              "      <td>-2.394644</td>\n",
              "      <td>32.0</td>\n",
              "      <td>1.0</td>\n",
              "      <td>-0.324317</td>\n",
              "      <td>1.707283</td>\n",
              "      <td>-0.000007</td>\n",
              "      <td>0.0</td>\n",
              "      <td>1.0</td>\n",
              "      <td>43.334935</td>\n",
              "      <td>2.771583e+00</td>\n",
              "      <td>-0.648017</td>\n",
              "    </tr>\n",
              "    <tr>\n",
              "      <th>2</th>\n",
              "      <td>2161.409908</td>\n",
              "      <td>17.0</td>\n",
              "      <td>-999.000000</td>\n",
              "      <td>0.0</td>\n",
              "      <td>0.0</td>\n",
              "      <td>-999.0</td>\n",
              "      <td>-999.000000</td>\n",
              "      <td>-999.000000</td>\n",
              "      <td>0.0</td>\n",
              "      <td>-999.000000</td>\n",
              "      <td>11.619878</td>\n",
              "      <td>0.0</td>\n",
              "      <td>-999.000000</td>\n",
              "      <td>-999.000000</td>\n",
              "      <td>-999.000000</td>\n",
              "      <td>0.826442</td>\n",
              "      <td>-999.000000</td>\n",
              "      <td>-999.000000</td>\n",
              "      <td>0.0</td>\n",
              "      <td>-999.000000</td>\n",
              "      <td>0.0</td>\n",
              "      <td>-999.000000</td>\n",
              "      <td>-999.000000</td>\n",
              "      <td>94.829418</td>\n",
              "      <td>0.241891</td>\n",
              "      <td>0.0</td>\n",
              "      <td>-999.000000</td>\n",
              "      <td>-999.000000</td>\n",
              "      <td>0.0</td>\n",
              "      <td>-999.000000</td>\n",
              "      <td>5.0</td>\n",
              "      <td>0.0</td>\n",
              "      <td>0.0</td>\n",
              "      <td>0.195717</td>\n",
              "      <td>1.459992</td>\n",
              "      <td>Ghost</td>\n",
              "      <td>-999.000000</td>\n",
              "      <td>0.0</td>\n",
              "      <td>0.0</td>\n",
              "      <td>-999.000000</td>\n",
              "      <td>27.0</td>\n",
              "      <td>0.0</td>\n",
              "      <td>-999.000000</td>\n",
              "      <td>-999.000000</td>\n",
              "      <td>-999.000000</td>\n",
              "      <td>0.0</td>\n",
              "      <td>0.0</td>\n",
              "      <td>-999.000000</td>\n",
              "      <td>-9.990000e+02</td>\n",
              "      <td>-999.000000</td>\n",
              "    </tr>\n",
              "    <tr>\n",
              "      <th>3</th>\n",
              "      <td>15277.730490</td>\n",
              "      <td>20.0</td>\n",
              "      <td>-0.638984</td>\n",
              "      <td>0.0</td>\n",
              "      <td>1.0</td>\n",
              "      <td>3.2</td>\n",
              "      <td>-2.533918</td>\n",
              "      <td>-8.724949</td>\n",
              "      <td>1.0</td>\n",
              "      <td>-3.253981</td>\n",
              "      <td>15.336305</td>\n",
              "      <td>1.0</td>\n",
              "      <td>-10.616585</td>\n",
              "      <td>-39.447507</td>\n",
              "      <td>4385.688000</td>\n",
              "      <td>1.076721</td>\n",
              "      <td>-29.291509</td>\n",
              "      <td>-3.053104</td>\n",
              "      <td>1.0</td>\n",
              "      <td>-999.000000</td>\n",
              "      <td>1.0</td>\n",
              "      <td>231.190351</td>\n",
              "      <td>2.839508</td>\n",
              "      <td>808.631064</td>\n",
              "      <td>0.680705</td>\n",
              "      <td>1.0</td>\n",
              "      <td>-1.504160</td>\n",
              "      <td>1939.259641</td>\n",
              "      <td>1.0</td>\n",
              "      <td>-999.000000</td>\n",
              "      <td>9.0</td>\n",
              "      <td>0.0</td>\n",
              "      <td>1.0</td>\n",
              "      <td>0.003972</td>\n",
              "      <td>22.950573</td>\n",
              "      <td>Pion</td>\n",
              "      <td>-47.223118</td>\n",
              "      <td>1.0</td>\n",
              "      <td>1.0</td>\n",
              "      <td>-0.321242</td>\n",
              "      <td>36.0</td>\n",
              "      <td>1.0</td>\n",
              "      <td>-35.202221</td>\n",
              "      <td>-14.742319</td>\n",
              "      <td>4482.803707</td>\n",
              "      <td>0.0</td>\n",
              "      <td>1.0</td>\n",
              "      <td>2.194175</td>\n",
              "      <td>-3.070819e+00</td>\n",
              "      <td>-29.291519</td>\n",
              "    </tr>\n",
              "    <tr>\n",
              "      <th>4</th>\n",
              "      <td>7563.700195</td>\n",
              "      <td>19.0</td>\n",
              "      <td>-0.638962</td>\n",
              "      <td>0.0</td>\n",
              "      <td>1.0</td>\n",
              "      <td>3.2</td>\n",
              "      <td>-2.087146</td>\n",
              "      <td>-7.060422</td>\n",
              "      <td>1.0</td>\n",
              "      <td>-0.995816</td>\n",
              "      <td>10.954629</td>\n",
              "      <td>1.0</td>\n",
              "      <td>-8.144945</td>\n",
              "      <td>26.050386</td>\n",
              "      <td>1220.930044</td>\n",
              "      <td>0.439767</td>\n",
              "      <td>21.386587</td>\n",
              "      <td>-2.730648</td>\n",
              "      <td>1.0</td>\n",
              "      <td>-999.000000</td>\n",
              "      <td>1.0</td>\n",
              "      <td>-794.866475</td>\n",
              "      <td>1.209193</td>\n",
              "      <td>1422.569214</td>\n",
              "      <td>0.575066</td>\n",
              "      <td>1.0</td>\n",
              "      <td>-1.576249</td>\n",
              "      <td>1867.165142</td>\n",
              "      <td>1.0</td>\n",
              "      <td>-999.000000</td>\n",
              "      <td>5.0</td>\n",
              "      <td>0.0</td>\n",
              "      <td>0.0</td>\n",
              "      <td>0.015232</td>\n",
              "      <td>3.516173</td>\n",
              "      <td>Proton</td>\n",
              "      <td>15.304688</td>\n",
              "      <td>0.0</td>\n",
              "      <td>1.0</td>\n",
              "      <td>-1.038026</td>\n",
              "      <td>33.0</td>\n",
              "      <td>1.0</td>\n",
              "      <td>25.084287</td>\n",
              "      <td>-10.272412</td>\n",
              "      <td>5107.554680</td>\n",
              "      <td>0.0</td>\n",
              "      <td>1.0</td>\n",
              "      <td>0.000015</td>\n",
              "      <td>-5.373712e+00</td>\n",
              "      <td>23.653087</td>\n",
              "    </tr>\n",
              "  </tbody>\n",
              "</table>\n",
              "</div>"
            ],
            "text/plain": [
              "         TrackP  TrackNDoFSubdetector2  ...  RICH_DLLbeMuon  RICH_DLLbeProton\n",
              "0  74791.156263                   15.0  ...   -2.081143e-07        -24.824400\n",
              "1   2738.489989                   15.0  ...    2.771583e+00         -0.648017\n",
              "2   2161.409908                   17.0  ...   -9.990000e+02       -999.000000\n",
              "3  15277.730490                   20.0  ...   -3.070819e+00        -29.291519\n",
              "4   7563.700195                   19.0  ...   -5.373712e+00         23.653087\n",
              "\n",
              "[5 rows x 50 columns]"
            ]
          },
          "metadata": {
            "tags": []
          },
          "execution_count": 5
        }
      ]
    },
    {
      "cell_type": "markdown",
      "metadata": {
        "id": "nedI5HDZpxTU",
        "colab_type": "text"
      },
      "source": [
        "### List of columns in the samples"
      ]
    },
    {
      "cell_type": "markdown",
      "metadata": {
        "id": "TSoHd7hepxTV",
        "colab_type": "text"
      },
      "source": [
        "Here, **Spd** stands for Scintillating Pad Detector, **Prs** - Preshower, **Ecal** - electromagnetic calorimeter, **Hcal** - hadronic calorimeter, **Brem** denotes traces of the particles that were deflected by detector."
      ]
    },
    {
      "cell_type": "markdown",
      "metadata": {
        "id": "c09WKEsopxTW",
        "colab_type": "text"
      },
      "source": [
        "- ID - id value for tracks (presents only in the test file for the submitting purposes)\n",
        "- Label - string valued observable denoting particle types. Can take values \"Electron\", \"Muon\", \"Kaon\", \"Proton\", \"Pion\" and \"Ghost\". This column is absent in the test file.\n",
        "- FlagSpd - flag (0 or 1), if reconstructed track passes through Spd\n",
        "- FlagPrs - flag (0 or 1), if reconstructed track passes through Prs\n",
        "- FlagBrem - flag (0 or 1), if reconstructed track passes through Brem\n",
        "- FlagEcal - flag (0 or 1), if reconstructed track passes through Ecal\n",
        "- FlagHcal - flag (0 or 1), if reconstructed track passes through Hcal\n",
        "- FlagRICH1 - flag (0 or 1), if reconstructed track passes through the first RICH detector\n",
        "- FlagRICH2 - flag (0 or 1), if reconstructed track passes through the second RICH detector\n",
        "- FlagMuon - flag (0 or 1), if reconstructed track passes through muon stations (Muon)\n",
        "- SpdE - energy deposit associated to the track in the Spd\n",
        "- PrsE - energy deposit associated to the track in the Prs\n",
        "- EcalE - energy deposit associated to the track in the Hcal\n",
        "- HcalE - energy deposit associated to the track in the Hcal\n",
        "- PrsDLLbeElectron - delta log-likelihood for a particle candidate to be electron using information from Prs\n",
        "- BremDLLbeElectron - delta log-likelihood for a particle candidate to be electron using information from Brem\n",
        "- TrackP - particle momentum\n",
        "- TrackPt - particle transverse momentum\n",
        "- TrackNDoFSubdetector1  - number of degrees of freedom for track fit using hits in the tracking sub-detector1\n",
        "- TrackQualitySubdetector1 - chi2 quality of the track fit using hits in the tracking sub-detector1\n",
        "- TrackNDoFSubdetector2 - number of degrees of freedom for track fit using hits in the tracking sub-detector2\n",
        "- TrackQualitySubdetector2 - chi2 quality of the track fit using hits in the  tracking sub-detector2\n",
        "- TrackNDoF - number of degrees of freedom for track fit using hits in all tracking sub-detectors\n",
        "- TrackQualityPerNDoF - chi2 quality of the track fit per degree of freedom\n",
        "- TrackDistanceToZ - distance between track and z-axis (beam axis)\n",
        "- Calo2dFitQuality - quality of the 2d fit of the clusters in the calorimeter \n",
        "- Calo3dFitQuality - quality of the 3d fit in the calorimeter with assumption that particle was electron\n",
        "- EcalDLLbeElectron - delta log-likelihood for a particle candidate to be electron using information from Ecal\n",
        "- EcalDLLbeMuon - delta log-likelihood for a particle candidate to be muon using information from Ecal\n",
        "- EcalShowerLongitudinalParameter - longitudinal parameter of Ecal shower\n",
        "- HcalDLLbeElectron - delta log-likelihood for a particle candidate to be electron using information from Hcal\n",
        "- HcalDLLbeMuon - delta log-likelihood for a particle candidate to be using information from Hcal\n",
        "- RICHpFlagElectron - flag (0 or 1) if momentum is greater than threshold for electrons to produce Cherenkov light\n",
        "- RICHpFlagProton - flag (0 or 1) if momentum is greater than threshold for protons to produce Cherenkov light\n",
        "- RICHpFlagPion - flag (0 or 1) if momentum is greater than threshold for pions to produce Cherenkov light\n",
        "- RICHpFlagKaon - flag (0 or 1) if momentum is greater than threshold for kaons to produce Cherenkov light\n",
        "- RICHpFlagMuon - flag (0 or 1) if momentum is greater than threshold for muons to produce Cherenkov light\n",
        "- RICH_DLLbeBCK  - delta log-likelihood for a particle candidate to be background using information from RICH\n",
        "- RICH_DLLbeKaon - delta log-likelihood for a particle candidate to be kaon using information from RICH\n",
        "- RICH_DLLbeElectron - delta log-likelihood for a particle candidate to be electron using information from RICH\n",
        "- RICH_DLLbeMuon - delta log-likelihood for a particle candidate to be muon using information from RICH\n",
        "- RICH_DLLbeProton - delta log-likelihood for a particle candidate to be proton using information from RICH\n",
        "- MuonFlag - muon flag (is this track muon) which is determined from muon stations\n",
        "- MuonLooseFlag muon flag (is this track muon) which is determined from muon stations using looser criteria\n",
        "- MuonLLbeBCK - log-likelihood for a particle candidate to be not muon using information from muon stations\n",
        "- MuonLLbeMuon - log-likelihood for a particle candidate to be muon using information from muon stations\n",
        "- DLLelectron - delta log-likelihood for a particle candidate to be electron using information from all subdetectors\n",
        "- DLLmuon - delta log-likelihood for a particle candidate to be muon using information from all subdetectors\n",
        "- DLLkaon - delta log-likelihood for a particle candidate to be kaon using information from all subdetectors\n",
        "- DLLproton - delta log-likelihood for a particle candidate to be proton using information from all subdetectors\n",
        "- GhostProbability - probability for a particle candidate to be ghost track. This variable is an output of classification model used in the tracking algorithm."
      ]
    },
    {
      "cell_type": "markdown",
      "metadata": {
        "id": "4RrKPcNepxTY",
        "colab_type": "text"
      },
      "source": [
        "Delta log-likelihood in the features descriptions means the difference between log-likelihood for the mass hypothesis that a given track is left by some particle (for example, electron) and log-likelihood for the mass hypothesis that a given track is left by a pion (so, DLLpion = 0 and thus we don't have these columns). This is done since most tracks (~80%) are left by pions and in practice we actually need to discriminate other particles from pions. In other words, the null hypothesis is that particle is a pion."
      ]
    },
    {
      "cell_type": "markdown",
      "metadata": {
        "id": "g8HlMMoQpxTZ",
        "colab_type": "text"
      },
      "source": [
        "### Look at the labels set\n",
        "\n",
        "The training data contains six classes. Each class corresponds to a particle type. Your task is to predict type of a particle."
      ]
    },
    {
      "cell_type": "code",
      "metadata": {
        "id": "_pqwkubApxTa",
        "colab_type": "code",
        "colab": {
          "base_uri": "https://localhost:8080/",
          "height": 34
        },
        "outputId": "e8006268-9592-4374-8464-888b95b2f2d8"
      },
      "source": [
        "set(data.Label)"
      ],
      "execution_count": 7,
      "outputs": [
        {
          "output_type": "execute_result",
          "data": {
            "text/plain": [
              "{'Electron', 'Ghost', 'Kaon', 'Muon', 'Pion', 'Proton'}"
            ]
          },
          "metadata": {
            "tags": []
          },
          "execution_count": 7
        }
      ]
    },
    {
      "cell_type": "markdown",
      "metadata": {
        "id": "ZXTNPb5SpxTh",
        "colab_type": "text"
      },
      "source": [
        "Convert the particle types into class numbers."
      ]
    },
    {
      "cell_type": "code",
      "metadata": {
        "id": "U7sYBMP1pxTi",
        "colab_type": "code",
        "colab": {
          "base_uri": "https://localhost:8080/",
          "height": 34
        },
        "outputId": "81982b7d-3b9a-4952-d113-798aaaf57203"
      },
      "source": [
        "data['Class'] = utils.get_class_ids(data.Label.values)\n",
        "set(data.Class)"
      ],
      "execution_count": 8,
      "outputs": [
        {
          "output_type": "execute_result",
          "data": {
            "text/plain": [
              "{0, 1, 2, 3, 4, 5}"
            ]
          },
          "metadata": {
            "tags": []
          },
          "execution_count": 8
        }
      ]
    },
    {
      "cell_type": "markdown",
      "metadata": {
        "id": "90rIs6SzpxTs",
        "colab_type": "text"
      },
      "source": [
        "### Define training features\n",
        "\n",
        "The following set of features describe particle responses in the detector systems:\n",
        "\n",
        "![features](https://github.com/MehaRima/Advanced-Machine-Learning-Specialization/blob/master/Addressing%20Large%20Hadron%20Collider%20Challenges%20by%20Machine%20Learning/Week2/pic/features.jpeg?raw=1)\n",
        "\n",
        "Also there are several combined features. The full list is following."
      ]
    },
    {
      "cell_type": "code",
      "metadata": {
        "id": "GwtsFybHpxT0",
        "colab_type": "code",
        "colab": {
          "base_uri": "https://localhost:8080/",
          "height": 850
        },
        "outputId": "b31e674f-826f-4313-9fb4-2469691574c4"
      },
      "source": [
        "features = list(set(data.columns) - {'Label', 'Class'})\n",
        "features"
      ],
      "execution_count": 9,
      "outputs": [
        {
          "output_type": "execute_result",
          "data": {
            "text/plain": [
              "['RICH_DLLbeProton',\n",
              " 'MuonLooseFlag',\n",
              " 'TrackDistanceToZ',\n",
              " 'SpdE',\n",
              " 'FlagPrs',\n",
              " 'FlagHcal',\n",
              " 'RICHpFlagKaon',\n",
              " 'FlagMuon',\n",
              " 'RICH_DLLbeMuon',\n",
              " 'TrackQualitySubdetector1',\n",
              " 'EcalShowerLongitudinalParameter',\n",
              " 'GhostProbability',\n",
              " 'RICHpFlagElectron',\n",
              " 'RICHpFlagProton',\n",
              " 'EcalDLLbeMuon',\n",
              " 'RICHpFlagPion',\n",
              " 'MuonLLbeMuon',\n",
              " 'MuonLLbeBCK',\n",
              " 'TrackPt',\n",
              " 'RICH_DLLbeBCK',\n",
              " 'PrsE',\n",
              " 'HcalDLLbeElectron',\n",
              " 'DLLelectron',\n",
              " 'RICH_DLLbeElectron',\n",
              " 'DLLkaon',\n",
              " 'MuonFlag',\n",
              " 'FlagEcal',\n",
              " 'FlagBrem',\n",
              " 'DLLmuon',\n",
              " 'TrackQualityPerNDoF',\n",
              " 'FlagSpd',\n",
              " 'RICH_DLLbeKaon',\n",
              " 'HcalDLLbeMuon',\n",
              " 'RICHpFlagMuon',\n",
              " 'EcalDLLbeElectron',\n",
              " 'FlagRICH1',\n",
              " 'TrackP',\n",
              " 'FlagRICH2',\n",
              " 'TrackNDoFSubdetector2',\n",
              " 'TrackNDoFSubdetector1',\n",
              " 'DLLproton',\n",
              " 'Calo3dFitQuality',\n",
              " 'Calo2dFitQuality',\n",
              " 'TrackNDoF',\n",
              " 'PrsDLLbeElectron',\n",
              " 'BremDLLbeElectron',\n",
              " 'TrackQualitySubdetector2',\n",
              " 'EcalE',\n",
              " 'HcalE']"
            ]
          },
          "metadata": {
            "tags": []
          },
          "execution_count": 9
        }
      ]
    },
    {
      "cell_type": "markdown",
      "metadata": {
        "id": "UC0g7rzWpxUd",
        "colab_type": "text"
      },
      "source": [
        "### Divide training data into 2 parts"
      ]
    },
    {
      "cell_type": "code",
      "metadata": {
        "id": "qt14zixdpxUh",
        "colab_type": "code",
        "colab": {}
      },
      "source": [
        "training_data, validation_data = train_test_split(data, random_state=11, train_size=0.90, test_size=0.10)"
      ],
      "execution_count": 10,
      "outputs": []
    },
    {
      "cell_type": "code",
      "metadata": {
        "id": "p7UcsVFupxUu",
        "colab_type": "code",
        "colab": {
          "base_uri": "https://localhost:8080/",
          "height": 34
        },
        "outputId": "5367ac50-93ff-45a0-e36f-ab6c58296329"
      },
      "source": [
        "len(training_data), len(validation_data)"
      ],
      "execution_count": 11,
      "outputs": [
        {
          "output_type": "execute_result",
          "data": {
            "text/plain": [
              "(1080000, 120000)"
            ]
          },
          "metadata": {
            "tags": []
          },
          "execution_count": 11
        }
      ]
    },
    {
      "cell_type": "code",
      "metadata": {
        "id": "HbCIQKaOpxU7",
        "colab_type": "code",
        "colab": {
          "base_uri": "https://localhost:8080/",
          "height": 224
        },
        "outputId": "09584655-8a2a-4da6-cbd0-3bef872db298"
      },
      "source": [
        "training_data.head()"
      ],
      "execution_count": 12,
      "outputs": [
        {
          "output_type": "execute_result",
          "data": {
            "text/html": [
              "<div>\n",
              "<style scoped>\n",
              "    .dataframe tbody tr th:only-of-type {\n",
              "        vertical-align: middle;\n",
              "    }\n",
              "\n",
              "    .dataframe tbody tr th {\n",
              "        vertical-align: top;\n",
              "    }\n",
              "\n",
              "    .dataframe thead th {\n",
              "        text-align: right;\n",
              "    }\n",
              "</style>\n",
              "<table border=\"1\" class=\"dataframe\">\n",
              "  <thead>\n",
              "    <tr style=\"text-align: right;\">\n",
              "      <th></th>\n",
              "      <th>TrackP</th>\n",
              "      <th>TrackNDoFSubdetector2</th>\n",
              "      <th>BremDLLbeElectron</th>\n",
              "      <th>MuonLooseFlag</th>\n",
              "      <th>FlagSpd</th>\n",
              "      <th>SpdE</th>\n",
              "      <th>EcalDLLbeElectron</th>\n",
              "      <th>DLLmuon</th>\n",
              "      <th>RICHpFlagElectron</th>\n",
              "      <th>EcalDLLbeMuon</th>\n",
              "      <th>TrackQualitySubdetector2</th>\n",
              "      <th>FlagPrs</th>\n",
              "      <th>DLLelectron</th>\n",
              "      <th>DLLkaon</th>\n",
              "      <th>EcalE</th>\n",
              "      <th>TrackQualityPerNDoF</th>\n",
              "      <th>DLLproton</th>\n",
              "      <th>PrsDLLbeElectron</th>\n",
              "      <th>FlagRICH1</th>\n",
              "      <th>MuonLLbeBCK</th>\n",
              "      <th>FlagHcal</th>\n",
              "      <th>EcalShowerLongitudinalParameter</th>\n",
              "      <th>Calo2dFitQuality</th>\n",
              "      <th>TrackPt</th>\n",
              "      <th>TrackDistanceToZ</th>\n",
              "      <th>RICHpFlagPion</th>\n",
              "      <th>HcalDLLbeElectron</th>\n",
              "      <th>Calo3dFitQuality</th>\n",
              "      <th>FlagEcal</th>\n",
              "      <th>MuonLLbeMuon</th>\n",
              "      <th>TrackNDoFSubdetector1</th>\n",
              "      <th>RICHpFlagProton</th>\n",
              "      <th>RICHpFlagKaon</th>\n",
              "      <th>GhostProbability</th>\n",
              "      <th>TrackQualitySubdetector1</th>\n",
              "      <th>Label</th>\n",
              "      <th>RICH_DLLbeBCK</th>\n",
              "      <th>FlagRICH2</th>\n",
              "      <th>FlagBrem</th>\n",
              "      <th>HcalDLLbeMuon</th>\n",
              "      <th>TrackNDoF</th>\n",
              "      <th>RICHpFlagMuon</th>\n",
              "      <th>RICH_DLLbeKaon</th>\n",
              "      <th>RICH_DLLbeElectron</th>\n",
              "      <th>HcalE</th>\n",
              "      <th>MuonFlag</th>\n",
              "      <th>FlagMuon</th>\n",
              "      <th>PrsE</th>\n",
              "      <th>RICH_DLLbeMuon</th>\n",
              "      <th>RICH_DLLbeProton</th>\n",
              "      <th>Class</th>\n",
              "    </tr>\n",
              "  </thead>\n",
              "  <tbody>\n",
              "    <tr>\n",
              "      <th>968874</th>\n",
              "      <td>12192.330089</td>\n",
              "      <td>17.0</td>\n",
              "      <td>-0.170024</td>\n",
              "      <td>0.0</td>\n",
              "      <td>1.0</td>\n",
              "      <td>0.0</td>\n",
              "      <td>-1.831868</td>\n",
              "      <td>-0.996012</td>\n",
              "      <td>1.0</td>\n",
              "      <td>5.017775e-01</td>\n",
              "      <td>23.639733</td>\n",
              "      <td>0.0</td>\n",
              "      <td>-7.273712</td>\n",
              "      <td>-19.783081</td>\n",
              "      <td>-4.186518e-07</td>\n",
              "      <td>3.549970</td>\n",
              "      <td>-22.811781</td>\n",
              "      <td>-3.062694</td>\n",
              "      <td>1.0</td>\n",
              "      <td>-2.853407</td>\n",
              "      <td>1.0</td>\n",
              "      <td>-5079.336440</td>\n",
              "      <td>28.628712</td>\n",
              "      <td>477.872599</td>\n",
              "      <td>0.403936</td>\n",
              "      <td>1.0</td>\n",
              "      <td>-0.924518</td>\n",
              "      <td>1184.381821</td>\n",
              "      <td>1.0</td>\n",
              "      <td>-0.008407</td>\n",
              "      <td>1.0</td>\n",
              "      <td>0.0</td>\n",
              "      <td>1.0</td>\n",
              "      <td>0.301772</td>\n",
              "      <td>2.120835</td>\n",
              "      <td>Ghost</td>\n",
              "      <td>-18.459708</td>\n",
              "      <td>1.0</td>\n",
              "      <td>1.0</td>\n",
              "      <td>1.397398</td>\n",
              "      <td>27.0</td>\n",
              "      <td>1.0</td>\n",
              "      <td>-19.783108</td>\n",
              "      <td>-6.720408</td>\n",
              "      <td>1914.190913</td>\n",
              "      <td>1.0</td>\n",
              "      <td>1.0</td>\n",
              "      <td>1.967353e-06</td>\n",
              "      <td>-2.804208</td>\n",
              "      <td>-25.041909</td>\n",
              "      <td>1</td>\n",
              "    </tr>\n",
              "    <tr>\n",
              "      <th>912808</th>\n",
              "      <td>40379.488299</td>\n",
              "      <td>7.0</td>\n",
              "      <td>-999.000000</td>\n",
              "      <td>0.0</td>\n",
              "      <td>0.0</td>\n",
              "      <td>-999.0</td>\n",
              "      <td>-999.000000</td>\n",
              "      <td>-0.792678</td>\n",
              "      <td>1.0</td>\n",
              "      <td>-9.990000e+02</td>\n",
              "      <td>5.240217</td>\n",
              "      <td>0.0</td>\n",
              "      <td>-0.017085</td>\n",
              "      <td>-14.755505</td>\n",
              "      <td>-9.990000e+02</td>\n",
              "      <td>1.268794</td>\n",
              "      <td>-18.450505</td>\n",
              "      <td>-999.000000</td>\n",
              "      <td>0.0</td>\n",
              "      <td>-999.000000</td>\n",
              "      <td>0.0</td>\n",
              "      <td>-999.000000</td>\n",
              "      <td>-999.000000</td>\n",
              "      <td>762.761798</td>\n",
              "      <td>0.795385</td>\n",
              "      <td>1.0</td>\n",
              "      <td>-999.000000</td>\n",
              "      <td>-999.000000</td>\n",
              "      <td>0.0</td>\n",
              "      <td>-999.000000</td>\n",
              "      <td>3.0</td>\n",
              "      <td>1.0</td>\n",
              "      <td>1.0</td>\n",
              "      <td>0.023019</td>\n",
              "      <td>0.364699</td>\n",
              "      <td>Pion</td>\n",
              "      <td>-12.998593</td>\n",
              "      <td>1.0</td>\n",
              "      <td>0.0</td>\n",
              "      <td>-999.000000</td>\n",
              "      <td>13.0</td>\n",
              "      <td>1.0</td>\n",
              "      <td>-14.755493</td>\n",
              "      <td>-2.304893</td>\n",
              "      <td>-999.000000</td>\n",
              "      <td>0.0</td>\n",
              "      <td>1.0</td>\n",
              "      <td>-9.990000e+02</td>\n",
              "      <td>-0.967993</td>\n",
              "      <td>-18.450494</td>\n",
              "      <td>4</td>\n",
              "    </tr>\n",
              "    <tr>\n",
              "      <th>30045</th>\n",
              "      <td>5294.729989</td>\n",
              "      <td>12.0</td>\n",
              "      <td>-0.381504</td>\n",
              "      <td>1.0</td>\n",
              "      <td>1.0</td>\n",
              "      <td>3.2</td>\n",
              "      <td>-0.589851</td>\n",
              "      <td>-2.054347</td>\n",
              "      <td>1.0</td>\n",
              "      <td>-2.142670e+00</td>\n",
              "      <td>20.121625</td>\n",
              "      <td>1.0</td>\n",
              "      <td>-1.783970</td>\n",
              "      <td>10.255301</td>\n",
              "      <td>2.258582e+03</td>\n",
              "      <td>1.229169</td>\n",
              "      <td>13.835801</td>\n",
              "      <td>2.359803</td>\n",
              "      <td>1.0</td>\n",
              "      <td>-0.928991</td>\n",
              "      <td>1.0</td>\n",
              "      <td>-232.818100</td>\n",
              "      <td>0.681833</td>\n",
              "      <td>278.262307</td>\n",
              "      <td>0.156057</td>\n",
              "      <td>1.0</td>\n",
              "      <td>-1.607220</td>\n",
              "      <td>421.908218</td>\n",
              "      <td>1.0</td>\n",
              "      <td>-0.268291</td>\n",
              "      <td>12.0</td>\n",
              "      <td>0.0</td>\n",
              "      <td>0.0</td>\n",
              "      <td>0.006190</td>\n",
              "      <td>13.794493</td>\n",
              "      <td>Muon</td>\n",
              "      <td>10.983106</td>\n",
              "      <td>0.0</td>\n",
              "      <td>1.0</td>\n",
              "      <td>0.947490</td>\n",
              "      <td>33.0</td>\n",
              "      <td>1.0</td>\n",
              "      <td>13.137106</td>\n",
              "      <td>-7.920494</td>\n",
              "      <td>2567.385966</td>\n",
              "      <td>1.0</td>\n",
              "      <td>1.0</td>\n",
              "      <td>7.569901e+01</td>\n",
              "      <td>-1.713094</td>\n",
              "      <td>13.416006</td>\n",
              "      <td>3</td>\n",
              "    </tr>\n",
              "    <tr>\n",
              "      <th>313784</th>\n",
              "      <td>4645.819821</td>\n",
              "      <td>17.0</td>\n",
              "      <td>-0.417099</td>\n",
              "      <td>1.0</td>\n",
              "      <td>1.0</td>\n",
              "      <td>3.2</td>\n",
              "      <td>0.649028</td>\n",
              "      <td>-8.301831</td>\n",
              "      <td>1.0</td>\n",
              "      <td>7.650223e-07</td>\n",
              "      <td>29.585650</td>\n",
              "      <td>1.0</td>\n",
              "      <td>-5.962948</td>\n",
              "      <td>-22.006813</td>\n",
              "      <td>9.822900e+02</td>\n",
              "      <td>1.447289</td>\n",
              "      <td>-17.656713</td>\n",
              "      <td>-2.730665</td>\n",
              "      <td>1.0</td>\n",
              "      <td>-0.000606</td>\n",
              "      <td>1.0</td>\n",
              "      <td>510.621553</td>\n",
              "      <td>3.820987</td>\n",
              "      <td>296.548215</td>\n",
              "      <td>0.391684</td>\n",
              "      <td>1.0</td>\n",
              "      <td>0.114287</td>\n",
              "      <td>129.041032</td>\n",
              "      <td>1.0</td>\n",
              "      <td>-0.011906</td>\n",
              "      <td>11.0</td>\n",
              "      <td>0.0</td>\n",
              "      <td>0.0</td>\n",
              "      <td>0.024626</td>\n",
              "      <td>8.282235</td>\n",
              "      <td>Ghost</td>\n",
              "      <td>-16.707492</td>\n",
              "      <td>0.0</td>\n",
              "      <td>1.0</td>\n",
              "      <td>-2.394636</td>\n",
              "      <td>37.0</td>\n",
              "      <td>1.0</td>\n",
              "      <td>-22.006791</td>\n",
              "      <td>-24.447692</td>\n",
              "      <td>256.265351</td>\n",
              "      <td>0.0</td>\n",
              "      <td>1.0</td>\n",
              "      <td>1.919901e+00</td>\n",
              "      <td>-7.184691</td>\n",
              "      <td>-17.656691</td>\n",
              "      <td>1</td>\n",
              "    </tr>\n",
              "    <tr>\n",
              "      <th>100864</th>\n",
              "      <td>3100.629887</td>\n",
              "      <td>17.0</td>\n",
              "      <td>-0.553602</td>\n",
              "      <td>0.0</td>\n",
              "      <td>1.0</td>\n",
              "      <td>3.2</td>\n",
              "      <td>-2.723420</td>\n",
              "      <td>-12.468398</td>\n",
              "      <td>1.0</td>\n",
              "      <td>-1.438773e+00</td>\n",
              "      <td>10.914584</td>\n",
              "      <td>1.0</td>\n",
              "      <td>-11.139076</td>\n",
              "      <td>0.814791</td>\n",
              "      <td>8.724200e+02</td>\n",
              "      <td>0.644480</td>\n",
              "      <td>1.080291</td>\n",
              "      <td>-2.382539</td>\n",
              "      <td>1.0</td>\n",
              "      <td>-999.000000</td>\n",
              "      <td>1.0</td>\n",
              "      <td>-999.000000</td>\n",
              "      <td>4.541087</td>\n",
              "      <td>144.371037</td>\n",
              "      <td>0.058232</td>\n",
              "      <td>1.0</td>\n",
              "      <td>0.434926</td>\n",
              "      <td>-999.000000</td>\n",
              "      <td>1.0</td>\n",
              "      <td>-999.000000</td>\n",
              "      <td>9.0</td>\n",
              "      <td>0.0</td>\n",
              "      <td>0.0</td>\n",
              "      <td>0.002423</td>\n",
              "      <td>7.402662</td>\n",
              "      <td>Kaon</td>\n",
              "      <td>0.560707</td>\n",
              "      <td>0.0</td>\n",
              "      <td>1.0</td>\n",
              "      <td>-2.394626</td>\n",
              "      <td>36.0</td>\n",
              "      <td>1.0</td>\n",
              "      <td>0.807007</td>\n",
              "      <td>-50.220193</td>\n",
              "      <td>0.000011</td>\n",
              "      <td>0.0</td>\n",
              "      <td>1.0</td>\n",
              "      <td>-8.050605e-07</td>\n",
              "      <td>-9.541493</td>\n",
              "      <td>0.771707</td>\n",
              "      <td>2</td>\n",
              "    </tr>\n",
              "  </tbody>\n",
              "</table>\n",
              "</div>"
            ],
            "text/plain": [
              "              TrackP  TrackNDoFSubdetector2  ...  RICH_DLLbeProton  Class\n",
              "968874  12192.330089                   17.0  ...        -25.041909      1\n",
              "912808  40379.488299                    7.0  ...        -18.450494      4\n",
              "30045    5294.729989                   12.0  ...         13.416006      3\n",
              "313784   4645.819821                   17.0  ...        -17.656691      1\n",
              "100864   3100.629887                   17.0  ...          0.771707      2\n",
              "\n",
              "[5 rows x 51 columns]"
            ]
          },
          "metadata": {
            "tags": []
          },
          "execution_count": 12
        }
      ]
    },
    {
      "cell_type": "code",
      "metadata": {
        "scrolled": true,
        "id": "1dBccqG-pxVE",
        "colab_type": "code",
        "colab": {
          "base_uri": "https://localhost:8080/",
          "height": 317
        },
        "outputId": "23b8806a-5edc-45a6-81aa-4b35edba6845"
      },
      "source": [
        "training_data[features].describe()"
      ],
      "execution_count": 13,
      "outputs": [
        {
          "output_type": "execute_result",
          "data": {
            "text/html": [
              "<div>\n",
              "<style scoped>\n",
              "    .dataframe tbody tr th:only-of-type {\n",
              "        vertical-align: middle;\n",
              "    }\n",
              "\n",
              "    .dataframe tbody tr th {\n",
              "        vertical-align: top;\n",
              "    }\n",
              "\n",
              "    .dataframe thead th {\n",
              "        text-align: right;\n",
              "    }\n",
              "</style>\n",
              "<table border=\"1\" class=\"dataframe\">\n",
              "  <thead>\n",
              "    <tr style=\"text-align: right;\">\n",
              "      <th></th>\n",
              "      <th>RICH_DLLbeProton</th>\n",
              "      <th>MuonLooseFlag</th>\n",
              "      <th>TrackDistanceToZ</th>\n",
              "      <th>SpdE</th>\n",
              "      <th>FlagPrs</th>\n",
              "      <th>FlagHcal</th>\n",
              "      <th>RICHpFlagKaon</th>\n",
              "      <th>FlagMuon</th>\n",
              "      <th>RICH_DLLbeMuon</th>\n",
              "      <th>TrackQualitySubdetector1</th>\n",
              "      <th>EcalShowerLongitudinalParameter</th>\n",
              "      <th>GhostProbability</th>\n",
              "      <th>RICHpFlagElectron</th>\n",
              "      <th>RICHpFlagProton</th>\n",
              "      <th>EcalDLLbeMuon</th>\n",
              "      <th>RICHpFlagPion</th>\n",
              "      <th>MuonLLbeMuon</th>\n",
              "      <th>MuonLLbeBCK</th>\n",
              "      <th>TrackPt</th>\n",
              "      <th>RICH_DLLbeBCK</th>\n",
              "      <th>PrsE</th>\n",
              "      <th>HcalDLLbeElectron</th>\n",
              "      <th>DLLelectron</th>\n",
              "      <th>RICH_DLLbeElectron</th>\n",
              "      <th>DLLkaon</th>\n",
              "      <th>MuonFlag</th>\n",
              "      <th>FlagEcal</th>\n",
              "      <th>FlagBrem</th>\n",
              "      <th>DLLmuon</th>\n",
              "      <th>TrackQualityPerNDoF</th>\n",
              "      <th>FlagSpd</th>\n",
              "      <th>RICH_DLLbeKaon</th>\n",
              "      <th>HcalDLLbeMuon</th>\n",
              "      <th>RICHpFlagMuon</th>\n",
              "      <th>EcalDLLbeElectron</th>\n",
              "      <th>FlagRICH1</th>\n",
              "      <th>TrackP</th>\n",
              "      <th>FlagRICH2</th>\n",
              "      <th>TrackNDoFSubdetector2</th>\n",
              "      <th>TrackNDoFSubdetector1</th>\n",
              "      <th>DLLproton</th>\n",
              "      <th>Calo3dFitQuality</th>\n",
              "      <th>Calo2dFitQuality</th>\n",
              "      <th>TrackNDoF</th>\n",
              "      <th>PrsDLLbeElectron</th>\n",
              "      <th>BremDLLbeElectron</th>\n",
              "      <th>TrackQualitySubdetector2</th>\n",
              "      <th>EcalE</th>\n",
              "      <th>HcalE</th>\n",
              "    </tr>\n",
              "  </thead>\n",
              "  <tbody>\n",
              "    <tr>\n",
              "      <th>count</th>\n",
              "      <td>1.080000e+06</td>\n",
              "      <td>1.080000e+06</td>\n",
              "      <td>1.080000e+06</td>\n",
              "      <td>1.080000e+06</td>\n",
              "      <td>1.080000e+06</td>\n",
              "      <td>1.080000e+06</td>\n",
              "      <td>1.080000e+06</td>\n",
              "      <td>1.080000e+06</td>\n",
              "      <td>1.080000e+06</td>\n",
              "      <td>1.080000e+06</td>\n",
              "      <td>1.080000e+06</td>\n",
              "      <td>1.080000e+06</td>\n",
              "      <td>1.080000e+06</td>\n",
              "      <td>1.080000e+06</td>\n",
              "      <td>1.080000e+06</td>\n",
              "      <td>1.080000e+06</td>\n",
              "      <td>1.080000e+06</td>\n",
              "      <td>1.080000e+06</td>\n",
              "      <td>1.080000e+06</td>\n",
              "      <td>1.080000e+06</td>\n",
              "      <td>1.080000e+06</td>\n",
              "      <td>1.080000e+06</td>\n",
              "      <td>1.080000e+06</td>\n",
              "      <td>1.080000e+06</td>\n",
              "      <td>1.080000e+06</td>\n",
              "      <td>1.080000e+06</td>\n",
              "      <td>1.080000e+06</td>\n",
              "      <td>1.080000e+06</td>\n",
              "      <td>1.080000e+06</td>\n",
              "      <td>1.080000e+06</td>\n",
              "      <td>1.080000e+06</td>\n",
              "      <td>1.080000e+06</td>\n",
              "      <td>1.080000e+06</td>\n",
              "      <td>1.080000e+06</td>\n",
              "      <td>1.080000e+06</td>\n",
              "      <td>1.080000e+06</td>\n",
              "      <td>1.080000e+06</td>\n",
              "      <td>1.080000e+06</td>\n",
              "      <td>1.080000e+06</td>\n",
              "      <td>1.080000e+06</td>\n",
              "      <td>1.080000e+06</td>\n",
              "      <td>1.080000e+06</td>\n",
              "      <td>1.080000e+06</td>\n",
              "      <td>1.080000e+06</td>\n",
              "      <td>1.080000e+06</td>\n",
              "      <td>1.080000e+06</td>\n",
              "      <td>1.080000e+06</td>\n",
              "      <td>1.080000e+06</td>\n",
              "      <td>1.080000e+06</td>\n",
              "    </tr>\n",
              "    <tr>\n",
              "      <th>mean</th>\n",
              "      <td>-5.229568e+01</td>\n",
              "      <td>1.908407e-01</td>\n",
              "      <td>6.790303e-01</td>\n",
              "      <td>-1.445036e+02</td>\n",
              "      <td>8.510917e-01</td>\n",
              "      <td>7.646630e-01</td>\n",
              "      <td>4.059546e-01</td>\n",
              "      <td>8.207509e-01</td>\n",
              "      <td>-4.926364e+01</td>\n",
              "      <td>6.851082e+00</td>\n",
              "      <td>-4.257734e+02</td>\n",
              "      <td>5.513315e-02</td>\n",
              "      <td>9.514204e-01</td>\n",
              "      <td>2.106120e-01</td>\n",
              "      <td>-1.831246e+02</td>\n",
              "      <td>8.586537e-01</td>\n",
              "      <td>-8.087499e+02</td>\n",
              "      <td>-8.092076e+02</td>\n",
              "      <td>9.282852e+02</td>\n",
              "      <td>-5.210927e+01</td>\n",
              "      <td>-1.340039e+02</td>\n",
              "      <td>-2.353832e+02</td>\n",
              "      <td>-1.403302e+01</td>\n",
              "      <td>-5.109546e+01</td>\n",
              "      <td>-1.452442e+01</td>\n",
              "      <td>1.662343e-01</td>\n",
              "      <td>8.175639e-01</td>\n",
              "      <td>7.918694e-01</td>\n",
              "      <td>-1.268219e+01</td>\n",
              "      <td>1.282943e+00</td>\n",
              "      <td>8.530556e-01</td>\n",
              "      <td>-5.190322e+01</td>\n",
              "      <td>-2.355069e+02</td>\n",
              "      <td>9.186778e-01</td>\n",
              "      <td>-1.829481e+02</td>\n",
              "      <td>8.325130e-01</td>\n",
              "      <td>1.613264e+04</td>\n",
              "      <td>5.016713e-01</td>\n",
              "      <td>1.475204e+01</td>\n",
              "      <td>6.198936e+00</td>\n",
              "      <td>-1.491176e+01</td>\n",
              "      <td>1.003561e+03</td>\n",
              "      <td>-1.674038e+02</td>\n",
              "      <td>2.942315e+01</td>\n",
              "      <td>-1.500610e+02</td>\n",
              "      <td>-2.076723e+02</td>\n",
              "      <td>1.609497e+01</td>\n",
              "      <td>2.346141e+03</td>\n",
              "      <td>2.898032e+03</td>\n",
              "    </tr>\n",
              "    <tr>\n",
              "      <th>std</th>\n",
              "      <td>2.153698e+02</td>\n",
              "      <td>3.929640e-01</td>\n",
              "      <td>1.303041e+00</td>\n",
              "      <td>3.546216e+02</td>\n",
              "      <td>3.559983e-01</td>\n",
              "      <td>4.242095e-01</td>\n",
              "      <td>4.910761e-01</td>\n",
              "      <td>3.835609e-01</td>\n",
              "      <td>2.148977e+02</td>\n",
              "      <td>5.071566e+00</td>\n",
              "      <td>5.245722e+03</td>\n",
              "      <td>9.242857e-02</td>\n",
              "      <td>2.149877e-01</td>\n",
              "      <td>4.077435e-01</td>\n",
              "      <td>3.854955e+02</td>\n",
              "      <td>3.483786e-01</td>\n",
              "      <td>3.920690e+02</td>\n",
              "      <td>3.911265e+02</td>\n",
              "      <td>1.605476e+03</td>\n",
              "      <td>2.152615e+02</td>\n",
              "      <td>3.630068e+02</td>\n",
              "      <td>4.234402e+02</td>\n",
              "      <td>1.048488e+02</td>\n",
              "      <td>2.152222e+02</td>\n",
              "      <td>1.074946e+02</td>\n",
              "      <td>3.722910e-01</td>\n",
              "      <td>3.862037e-01</td>\n",
              "      <td>4.059709e-01</td>\n",
              "      <td>1.049807e+02</td>\n",
              "      <td>6.270840e-01</td>\n",
              "      <td>3.540507e-01</td>\n",
              "      <td>2.154569e+02</td>\n",
              "      <td>4.233731e+02</td>\n",
              "      <td>2.733294e-01</td>\n",
              "      <td>3.855809e+02</td>\n",
              "      <td>3.734103e-01</td>\n",
              "      <td>2.753921e+04</td>\n",
              "      <td>4.999974e-01</td>\n",
              "      <td>4.037619e+00</td>\n",
              "      <td>3.115005e+00</td>\n",
              "      <td>1.074610e+02</td>\n",
              "      <td>2.408174e+03</td>\n",
              "      <td>3.969166e+02</td>\n",
              "      <td>6.026995e+00</td>\n",
              "      <td>3.550281e+02</td>\n",
              "      <td>4.054207e+02</td>\n",
              "      <td>7.769702e+00</td>\n",
              "      <td>5.709488e+03</td>\n",
              "      <td>7.656111e+03</td>\n",
              "    </tr>\n",
              "    <tr>\n",
              "      <th>min</th>\n",
              "      <td>-9.990000e+02</td>\n",
              "      <td>0.000000e+00</td>\n",
              "      <td>-1.319307e-05</td>\n",
              "      <td>-9.990000e+02</td>\n",
              "      <td>0.000000e+00</td>\n",
              "      <td>0.000000e+00</td>\n",
              "      <td>0.000000e+00</td>\n",
              "      <td>0.000000e+00</td>\n",
              "      <td>-9.990000e+02</td>\n",
              "      <td>9.406193e-06</td>\n",
              "      <td>-3.861698e+05</td>\n",
              "      <td>1.456686e-03</td>\n",
              "      <td>0.000000e+00</td>\n",
              "      <td>0.000000e+00</td>\n",
              "      <td>-9.990000e+02</td>\n",
              "      <td>0.000000e+00</td>\n",
              "      <td>-9.990000e+02</td>\n",
              "      <td>-9.990000e+02</td>\n",
              "      <td>1.447011e+00</td>\n",
              "      <td>-9.990000e+02</td>\n",
              "      <td>-9.990000e+02</td>\n",
              "      <td>-9.990000e+02</td>\n",
              "      <td>-9.990000e+02</td>\n",
              "      <td>-9.990000e+02</td>\n",
              "      <td>-9.990000e+02</td>\n",
              "      <td>0.000000e+00</td>\n",
              "      <td>0.000000e+00</td>\n",
              "      <td>0.000000e+00</td>\n",
              "      <td>-9.990000e+02</td>\n",
              "      <td>4.504852e-02</td>\n",
              "      <td>0.000000e+00</td>\n",
              "      <td>-9.990000e+02</td>\n",
              "      <td>-9.990000e+02</td>\n",
              "      <td>0.000000e+00</td>\n",
              "      <td>-9.990000e+02</td>\n",
              "      <td>0.000000e+00</td>\n",
              "      <td>1.115380e+03</td>\n",
              "      <td>0.000000e+00</td>\n",
              "      <td>1.000000e+00</td>\n",
              "      <td>1.000000e+00</td>\n",
              "      <td>-9.990000e+02</td>\n",
              "      <td>-9.990000e+02</td>\n",
              "      <td>-9.990000e+02</td>\n",
              "      <td>7.000000e+00</td>\n",
              "      <td>-9.990000e+02</td>\n",
              "      <td>-9.990000e+02</td>\n",
              "      <td>3.229625e-04</td>\n",
              "      <td>-9.990000e+02</td>\n",
              "      <td>-9.990000e+02</td>\n",
              "    </tr>\n",
              "    <tr>\n",
              "      <th>25%</th>\n",
              "      <td>-1.618322e+01</td>\n",
              "      <td>0.000000e+00</td>\n",
              "      <td>2.824411e-01</td>\n",
              "      <td>0.000000e+00</td>\n",
              "      <td>1.000000e+00</td>\n",
              "      <td>1.000000e+00</td>\n",
              "      <td>0.000000e+00</td>\n",
              "      <td>1.000000e+00</td>\n",
              "      <td>-4.503437e+00</td>\n",
              "      <td>3.080789e+00</td>\n",
              "      <td>-9.990000e+02</td>\n",
              "      <td>3.852832e-03</td>\n",
              "      <td>1.000000e+00</td>\n",
              "      <td>0.000000e+00</td>\n",
              "      <td>-3.367626e+00</td>\n",
              "      <td>1.000000e+00</td>\n",
              "      <td>-9.990000e+02</td>\n",
              "      <td>-9.990000e+02</td>\n",
              "      <td>2.684007e+02</td>\n",
              "      <td>-1.619943e+01</td>\n",
              "      <td>9.201665e-06</td>\n",
              "      <td>-1.926173e+00</td>\n",
              "      <td>-7.059118e+00</td>\n",
              "      <td>-1.309732e+01</td>\n",
              "      <td>-1.069791e+01</td>\n",
              "      <td>0.000000e+00</td>\n",
              "      <td>1.000000e+00</td>\n",
              "      <td>1.000000e+00</td>\n",
              "      <td>-5.711785e+00</td>\n",
              "      <td>8.856753e-01</td>\n",
              "      <td>1.000000e+00</td>\n",
              "      <td>-1.469696e+01</td>\n",
              "      <td>-3.027614e+00</td>\n",
              "      <td>1.000000e+00</td>\n",
              "      <td>-3.000639e+00</td>\n",
              "      <td>1.000000e+00</td>\n",
              "      <td>4.135297e+03</td>\n",
              "      <td>0.000000e+00</td>\n",
              "      <td>1.300000e+01</td>\n",
              "      <td>4.000000e+00</td>\n",
              "      <td>-1.204060e+01</td>\n",
              "      <td>-9.990000e+02</td>\n",
              "      <td>9.502276e-02</td>\n",
              "      <td>2.600000e+01</td>\n",
              "      <td>-3.062679e+00</td>\n",
              "      <td>-6.250978e-01</td>\n",
              "      <td>1.071093e+01</td>\n",
              "      <td>-3.348990e-06</td>\n",
              "      <td>-1.446553e-05</td>\n",
              "    </tr>\n",
              "    <tr>\n",
              "      <th>50%</th>\n",
              "      <td>-2.947544e-06</td>\n",
              "      <td>0.000000e+00</td>\n",
              "      <td>5.136340e-01</td>\n",
              "      <td>3.200000e+00</td>\n",
              "      <td>1.000000e+00</td>\n",
              "      <td>1.000000e+00</td>\n",
              "      <td>0.000000e+00</td>\n",
              "      <td>1.000000e+00</td>\n",
              "      <td>-4.692121e-01</td>\n",
              "      <td>5.845922e+00</td>\n",
              "      <td>-2.955909e+02</td>\n",
              "      <td>9.668268e-03</td>\n",
              "      <td>1.000000e+00</td>\n",
              "      <td>0.000000e+00</td>\n",
              "      <td>-1.956066e+00</td>\n",
              "      <td>1.000000e+00</td>\n",
              "      <td>-9.990000e+02</td>\n",
              "      <td>-9.990000e+02</td>\n",
              "      <td>5.460906e+02</td>\n",
              "      <td>-2.783857e-06</td>\n",
              "      <td>2.468449e+00</td>\n",
              "      <td>-1.128672e+00</td>\n",
              "      <td>-4.360961e+00</td>\n",
              "      <td>-2.355985e+00</td>\n",
              "      <td>2.762477e-06</td>\n",
              "      <td>0.000000e+00</td>\n",
              "      <td>1.000000e+00</td>\n",
              "      <td>1.000000e+00</td>\n",
              "      <td>-1.985259e+00</td>\n",
              "      <td>1.106393e+00</td>\n",
              "      <td>1.000000e+00</td>\n",
              "      <td>-1.248008e-06</td>\n",
              "      <td>-1.792448e+00</td>\n",
              "      <td>1.000000e+00</td>\n",
              "      <td>-2.315904e+00</td>\n",
              "      <td>1.000000e+00</td>\n",
              "      <td>8.064075e+03</td>\n",
              "      <td>1.000000e+00</td>\n",
              "      <td>1.600000e+01</td>\n",
              "      <td>6.000000e+00</td>\n",
              "      <td>1.508806e-06</td>\n",
              "      <td>1.286276e+02</td>\n",
              "      <td>8.067113e-01</td>\n",
              "      <td>3.000000e+01</td>\n",
              "      <td>-2.730653e+00</td>\n",
              "      <td>-5.329020e-01</td>\n",
              "      <td>1.524483e+01</td>\n",
              "      <td>6.599040e+02</td>\n",
              "      <td>5.772029e+02</td>\n",
              "    </tr>\n",
              "    <tr>\n",
              "      <th>75%</th>\n",
              "      <td>8.919904e+00</td>\n",
              "      <td>0.000000e+00</td>\n",
              "      <td>6.923893e-01</td>\n",
              "      <td>3.200000e+00</td>\n",
              "      <td>1.000000e+00</td>\n",
              "      <td>1.000000e+00</td>\n",
              "      <td>1.000000e+00</td>\n",
              "      <td>1.000000e+00</td>\n",
              "      <td>1.300734e+00</td>\n",
              "      <td>9.508951e+00</td>\n",
              "      <td>1.550091e+02</td>\n",
              "      <td>5.510186e-02</td>\n",
              "      <td>1.000000e+00</td>\n",
              "      <td>0.000000e+00</td>\n",
              "      <td>4.339372e-01</td>\n",
              "      <td>1.000000e+00</td>\n",
              "      <td>-9.990000e+02</td>\n",
              "      <td>-9.990000e+02</td>\n",
              "      <td>1.110806e+03</td>\n",
              "      <td>8.770619e+00</td>\n",
              "      <td>8.776679e+00</td>\n",
              "      <td>-1.173962e-01</td>\n",
              "      <td>2.593773e-03</td>\n",
              "      <td>1.672999e+00</td>\n",
              "      <td>8.460730e+00</td>\n",
              "      <td>0.000000e+00</td>\n",
              "      <td>1.000000e+00</td>\n",
              "      <td>1.000000e+00</td>\n",
              "      <td>1.669644e+00</td>\n",
              "      <td>1.448324e+00</td>\n",
              "      <td>1.000000e+00</td>\n",
              "      <td>8.457116e+00</td>\n",
              "      <td>1.986138e-01</td>\n",
              "      <td>1.000000e+00</td>\n",
              "      <td>5.918626e-01</td>\n",
              "      <td>1.000000e+00</td>\n",
              "      <td>1.749550e+04</td>\n",
              "      <td>1.000000e+00</td>\n",
              "      <td>1.800000e+01</td>\n",
              "      <td>8.000000e+00</td>\n",
              "      <td>8.917628e+00</td>\n",
              "      <td>1.657563e+03</td>\n",
              "      <td>4.362203e+00</td>\n",
              "      <td>3.400000e+01</td>\n",
              "      <td>-1.331085e+00</td>\n",
              "      <td>-5.933648e-02</td>\n",
              "      <td>2.041093e+01</td>\n",
              "      <td>3.001512e+03</td>\n",
              "      <td>3.047605e+03</td>\n",
              "    </tr>\n",
              "    <tr>\n",
              "      <th>max</th>\n",
              "      <td>1.462984e+02</td>\n",
              "      <td>1.000000e+00</td>\n",
              "      <td>4.213652e+01</td>\n",
              "      <td>3.200000e+00</td>\n",
              "      <td>1.000000e+00</td>\n",
              "      <td>1.000000e+00</td>\n",
              "      <td>1.000000e+00</td>\n",
              "      <td>1.000000e+00</td>\n",
              "      <td>1.428335e+02</td>\n",
              "      <td>9.914788e+01</td>\n",
              "      <td>7.293874e+05</td>\n",
              "      <td>4.000019e-01</td>\n",
              "      <td>1.000000e+00</td>\n",
              "      <td>1.000000e+00</td>\n",
              "      <td>2.153017e+00</td>\n",
              "      <td>1.000000e+00</td>\n",
              "      <td>4.311586e-05</td>\n",
              "      <td>2.319657e-02</td>\n",
              "      <td>4.271570e+05</td>\n",
              "      <td>7.761361e+01</td>\n",
              "      <td>2.805800e+02</td>\n",
              "      <td>3.127981e+00</td>\n",
              "      <td>1.769270e+01</td>\n",
              "      <td>1.861542e+02</td>\n",
              "      <td>1.681698e+02</td>\n",
              "      <td>1.000000e+00</td>\n",
              "      <td>1.000000e+00</td>\n",
              "      <td>1.000000e+00</td>\n",
              "      <td>1.471079e+01</td>\n",
              "      <td>3.999967e+00</td>\n",
              "      <td>1.000000e+00</td>\n",
              "      <td>1.588015e+02</td>\n",
              "      <td>2.873421e+00</td>\n",
              "      <td>1.000000e+00</td>\n",
              "      <td>4.341298e+00</td>\n",
              "      <td>1.000000e+00</td>\n",
              "      <td>4.673862e+06</td>\n",
              "      <td>1.000000e+00</td>\n",
              "      <td>3.000000e+01</td>\n",
              "      <td>2.400000e+01</td>\n",
              "      <td>1.462984e+02</td>\n",
              "      <td>9.999937e+03</td>\n",
              "      <td>9.984028e+02</td>\n",
              "      <td>5.200000e+01</td>\n",
              "      <td>3.463160e+00</td>\n",
              "      <td>4.791513e+00</td>\n",
              "      <td>1.048634e+02</td>\n",
              "      <td>3.156805e+05</td>\n",
              "      <td>7.985253e+05</td>\n",
              "    </tr>\n",
              "  </tbody>\n",
              "</table>\n",
              "</div>"
            ],
            "text/plain": [
              "       RICH_DLLbeProton  MuonLooseFlag  ...         EcalE         HcalE\n",
              "count      1.080000e+06   1.080000e+06  ...  1.080000e+06  1.080000e+06\n",
              "mean      -5.229568e+01   1.908407e-01  ...  2.346141e+03  2.898032e+03\n",
              "std        2.153698e+02   3.929640e-01  ...  5.709488e+03  7.656111e+03\n",
              "min       -9.990000e+02   0.000000e+00  ... -9.990000e+02 -9.990000e+02\n",
              "25%       -1.618322e+01   0.000000e+00  ... -3.348990e-06 -1.446553e-05\n",
              "50%       -2.947544e-06   0.000000e+00  ...  6.599040e+02  5.772029e+02\n",
              "75%        8.919904e+00   0.000000e+00  ...  3.001512e+03  3.047605e+03\n",
              "max        1.462984e+02   1.000000e+00  ...  3.156805e+05  7.985253e+05\n",
              "\n",
              "[8 rows x 49 columns]"
            ]
          },
          "metadata": {
            "tags": []
          },
          "execution_count": 13
        }
      ]
    },
    {
      "cell_type": "code",
      "metadata": {
        "id": "M3PEDcTEpxVt",
        "colab_type": "code",
        "colab": {
          "base_uri": "https://localhost:8080/",
          "height": 34
        },
        "outputId": "45e5713d-30e6-435d-c3f4-5467c63a5d17"
      },
      "source": [
        "training_data[features].isnull().any().any()"
      ],
      "execution_count": 14,
      "outputs": [
        {
          "output_type": "execute_result",
          "data": {
            "text/plain": [
              "False"
            ]
          },
          "metadata": {
            "tags": []
          },
          "execution_count": 14
        }
      ]
    },
    {
      "cell_type": "code",
      "metadata": {
        "id": "lsyP1sQQpxV2",
        "colab_type": "code",
        "colab": {}
      },
      "source": [
        "from sklearn.preprocessing import StandardScaler\n",
        "scaler = StandardScaler()\n",
        "training_scale = scaler.fit_transform(training_data[features].values)"
      ],
      "execution_count": 15,
      "outputs": []
    },
    {
      "cell_type": "code",
      "metadata": {
        "id": "xG-pk5S5pxV8",
        "colab_type": "code",
        "colab": {}
      },
      "source": [
        "validation_scale = scaler.transform(validation_data[features].values)"
      ],
      "execution_count": 16,
      "outputs": []
    },
    {
      "cell_type": "markdown",
      "metadata": {
        "id": "tpzc_prMpxWB",
        "colab_type": "text"
      },
      "source": [
        "# Sklearn classifier\n",
        "\n",
        "On this step your task is to train **Sklearn** classifier to provide lower **log loss** value.\n",
        "\n",
        "\n",
        "TASK: your task is to tune the classifier parameters to achieve the lowest **log loss** value on the validation sample you can."
      ]
    },
    {
      "cell_type": "markdown",
      "metadata": {
        "id": "lUU0U81K--xA",
        "colab_type": "text"
      },
      "source": [
        "\n",
        "\n",
        "```\n",
        "# This is formatted as code\n",
        "**bold text**\n",
        "from catboost import CatBoostClassifier\n",
        "\n",
        "gb = CatBoostClassifier(learning_rate=0.05, iterations=1000,task_type='GPU')\n",
        "\n",
        "gb.fit(training_data[features].values, training_data.Class.values)\n",
        "\n",
        "```\n",
        "\n"
      ]
    },
    {
      "cell_type": "code",
      "metadata": {
        "id": "eaMziqw0pxWE",
        "colab_type": "code",
        "colab": {}
      },
      "source": [
        "from sklearn.ensemble import GradientBoostingClassifier"
      ],
      "execution_count": 18,
      "outputs": []
    },
    {
      "cell_type": "code",
      "metadata": {
        "id": "YdKHomhVpxWJ",
        "colab_type": "code",
        "colab": {
          "base_uri": "https://localhost:8080/",
          "height": 51
        },
        "outputId": "32a3773d-426f-44b0-b126-b2c110ae82a4"
      },
      "source": [
        "%%time \n",
        "gb = GradientBoostingClassifier(learning_rate=0.5, n_estimators=50, subsample=0.8, random_state=13,\n",
        "                                min_samples_leaf=10, max_depth=3) \n",
        "#gb = GradientBoostingClassifier(learning_rate=0.1, n_estimators=50, subsample=0.8, random_state=13, min_samples_leaf=10, max_depth=30) \n",
        "#task_type='GPU')\n",
        "gb.fit(training_scale, training_data.Class.values)\n",
        "\n"
      ],
      "execution_count": 19,
      "outputs": [
        {
          "output_type": "stream",
          "text": [
            "CPU times: user 53min 4s, sys: 1.56 s, total: 53min 6s\n",
            "Wall time: 53min 7s\n"
          ],
          "name": "stdout"
        }
      ]
    },
    {
      "cell_type": "markdown",
      "metadata": {
        "id": "e6UhMHdSpxWP",
        "colab_type": "text"
      },
      "source": [
        "### Log loss on the cross validation sample"
      ]
    },
    {
      "cell_type": "code",
      "metadata": {
        "id": "ggGuIFnWpxWS",
        "colab_type": "code",
        "colab": {}
      },
      "source": [
        "# predict each track\n",
        "proba_gb = gb.predict_proba(validation_scale)"
      ],
      "execution_count": 20,
      "outputs": []
    },
    {
      "cell_type": "code",
      "metadata": {
        "id": "1uUubQttpxWb",
        "colab_type": "code",
        "colab": {
          "base_uri": "https://localhost:8080/",
          "height": 34
        },
        "outputId": "daf91291-90cc-4a80-a7fc-1389227f02c1"
      },
      "source": [
        "log_loss(validation_data.Class.values, proba_gb)"
      ],
      "execution_count": 21,
      "outputs": [
        {
          "output_type": "execute_result",
          "data": {
            "text/plain": [
              "0.5935180887313185"
            ]
          },
          "metadata": {
            "tags": []
          },
          "execution_count": 21
        }
      ]
    },
    {
      "cell_type": "markdown",
      "metadata": {
        "id": "_AslBhGPpxWg",
        "colab_type": "text"
      },
      "source": [
        "# Keras neural network\n",
        "\n",
        "On this step your task is to train **Keras** NN classifier to provide lower **log loss** value.\n",
        "\n",
        "\n",
        "TASK: your task is to tune the classifier parameters to achieve the lowest **log loss** value on the validation sample you can. Data preprocessing may help you to improve your score."
      ]
    },
    {
      "cell_type": "code",
      "metadata": {
        "id": "TunVVrGlpxWh",
        "colab_type": "code",
        "colab": {}
      },
      "source": [
        "\n",
        "#!pip install tensorflow==2.2 keras.layers.core.Activation(activation)\n",
        "from keras.models import Sequential\n",
        "from keras.layers import Dense, Activation\n",
        "\n",
        "#from keras.layers.core import Dense, Activation\n",
        "from keras.models import Sequential\n",
        "from keras.optimizers import Adam\n",
        "from keras.utils import np_utils\n",
        "from keras.callbacks import EarlyStopping, ModelCheckpoint"
      ],
      "execution_count": 22,
      "outputs": []
    },
    {
      "cell_type": "code",
      "metadata": {
        "id": "GFmFWOtEpxWr",
        "colab_type": "code",
        "colab": {}
      },
      "source": [
        "def nn_model(input_dim):\n",
        "    model = Sequential()\n",
        "    model.add(Dense(100, input_dim=input_dim))\n",
        "    model.add(Activation('relu'))\n",
        "    \n",
        "    model.add(Dense(50))\n",
        "    model.add(Activation('relu'))\n",
        "\n",
        "    model.add(Dense(6))\n",
        "    model.add(Activation('softmax'))\n",
        "\n",
        "    model.compile(loss='categorical_crossentropy', optimizer=Adam())\n",
        "    return model"
      ],
      "execution_count": 23,
      "outputs": []
    },
    {
      "cell_type": "code",
      "metadata": {
        "id": "bFMngh_6pxWw",
        "colab_type": "code",
        "colab": {}
      },
      "source": [
        "callback = [EarlyStopping(monitor='val_loss', min_delta=0, patience=4, verbose=0, mode='auto'),\n",
        "            ModelCheckpoint('output/{val_loss:.4f}.hdf5', monitor='val_loss', verbose=1, save_best_only=True, mode='auto')]"
      ],
      "execution_count": 25,
      "outputs": []
    },
    {
      "cell_type": "code",
      "metadata": {
        "id": "hUDqz_kmpxW2",
        "colab_type": "code",
        "colab": {
          "base_uri": "https://localhost:8080/",
          "height": 1000
        },
        "outputId": "71ca9f1b-5378-417e-b869-da92570cb229"
      },
      "source": [
        "nn = nn_model(len(features))\n",
        "nn.fit(training_scale, np_utils.to_categorical(training_data.Class.values),\n",
        "       validation_data=(validation_scale, np_utils.to_categorical(validation_data.Class.values)),\n",
        "       epochs=50, verbose=1, batch_size=256, callbacks=callback)"
      ],
      "execution_count": 26,
      "outputs": [
        {
          "output_type": "stream",
          "text": [
            "Epoch 1/50\n",
            "4205/4219 [============================>.] - ETA: 0s - loss: 0.8178\n",
            "Epoch 00001: val_loss improved from inf to 0.62394, saving model to output/0.6239.hdf5\n",
            "4219/4219 [==============================] - 7s 2ms/step - loss: 0.8173 - val_loss: 0.6239\n",
            "Epoch 2/50\n",
            "4218/4219 [============================>.] - ETA: 0s - loss: 0.6196\n",
            "Epoch 00002: val_loss improved from 0.62394 to 0.60159, saving model to output/0.6016.hdf5\n",
            "4219/4219 [==============================] - 6s 2ms/step - loss: 0.6196 - val_loss: 0.6016\n",
            "Epoch 3/50\n",
            "4218/4219 [============================>.] - ETA: 0s - loss: 0.6051\n",
            "Epoch 00003: val_loss did not improve from 0.60159\n",
            "4219/4219 [==============================] - 6s 2ms/step - loss: 0.6051 - val_loss: 0.6038\n",
            "Epoch 4/50\n",
            "4187/4219 [============================>.] - ETA: 0s - loss: 0.5962\n",
            "Epoch 00004: val_loss improved from 0.60159 to 0.59220, saving model to output/0.5922.hdf5\n",
            "4219/4219 [==============================] - 6s 2ms/step - loss: 0.5962 - val_loss: 0.5922\n",
            "Epoch 5/50\n",
            "4199/4219 [============================>.] - ETA: 0s - loss: 0.5923\n",
            "Epoch 00005: val_loss improved from 0.59220 to 0.58795, saving model to output/0.5879.hdf5\n",
            "4219/4219 [==============================] - 7s 2ms/step - loss: 0.5923 - val_loss: 0.5879\n",
            "Epoch 6/50\n",
            "4188/4219 [============================>.] - ETA: 0s - loss: 0.5867\n",
            "Epoch 00006: val_loss improved from 0.58795 to 0.58514, saving model to output/0.5851.hdf5\n",
            "4219/4219 [==============================] - 7s 2ms/step - loss: 0.5867 - val_loss: 0.5851\n",
            "Epoch 7/50\n",
            "4219/4219 [==============================] - ETA: 0s - loss: 0.5856\n",
            "Epoch 00007: val_loss improved from 0.58514 to 0.58113, saving model to output/0.5811.hdf5\n",
            "4219/4219 [==============================] - 6s 2ms/step - loss: 0.5856 - val_loss: 0.5811\n",
            "Epoch 8/50\n",
            "4192/4219 [============================>.] - ETA: 0s - loss: 0.5817\n",
            "Epoch 00008: val_loss did not improve from 0.58113\n",
            "4219/4219 [==============================] - 7s 2ms/step - loss: 0.5817 - val_loss: 0.5877\n",
            "Epoch 9/50\n",
            "4218/4219 [============================>.] - ETA: 0s - loss: 0.5813\n",
            "Epoch 00009: val_loss improved from 0.58113 to 0.57916, saving model to output/0.5792.hdf5\n",
            "4219/4219 [==============================] - 6s 2ms/step - loss: 0.5813 - val_loss: 0.5792\n",
            "Epoch 10/50\n",
            "4209/4219 [============================>.] - ETA: 0s - loss: 0.5776\n",
            "Epoch 00010: val_loss improved from 0.57916 to 0.57777, saving model to output/0.5778.hdf5\n",
            "4219/4219 [==============================] - 6s 2ms/step - loss: 0.5776 - val_loss: 0.5778\n",
            "Epoch 11/50\n",
            "4188/4219 [============================>.] - ETA: 0s - loss: 0.5760\n",
            "Epoch 00011: val_loss improved from 0.57777 to 0.57572, saving model to output/0.5757.hdf5\n",
            "4219/4219 [==============================] - 7s 2ms/step - loss: 0.5760 - val_loss: 0.5757\n",
            "Epoch 12/50\n",
            "4205/4219 [============================>.] - ETA: 0s - loss: 0.5763\n",
            "Epoch 00012: val_loss did not improve from 0.57572\n",
            "4219/4219 [==============================] - 7s 2ms/step - loss: 0.5763 - val_loss: 0.5796\n",
            "Epoch 13/50\n",
            "4193/4219 [============================>.] - ETA: 0s - loss: 0.5747\n",
            "Epoch 00013: val_loss did not improve from 0.57572\n",
            "4219/4219 [==============================] - 6s 2ms/step - loss: 0.5747 - val_loss: 0.5779\n",
            "Epoch 14/50\n",
            "4211/4219 [============================>.] - ETA: 0s - loss: 0.5724\n",
            "Epoch 00014: val_loss improved from 0.57572 to 0.57330, saving model to output/0.5733.hdf5\n",
            "4219/4219 [==============================] - 6s 1ms/step - loss: 0.5724 - val_loss: 0.5733\n",
            "Epoch 15/50\n",
            "4191/4219 [============================>.] - ETA: 0s - loss: 0.5709\n",
            "Epoch 00015: val_loss improved from 0.57330 to 0.57240, saving model to output/0.5724.hdf5\n",
            "4219/4219 [==============================] - 6s 1ms/step - loss: 0.5709 - val_loss: 0.5724\n",
            "Epoch 16/50\n",
            "4206/4219 [============================>.] - ETA: 0s - loss: 0.5693\n",
            "Epoch 00016: val_loss did not improve from 0.57240\n",
            "4219/4219 [==============================] - 6s 2ms/step - loss: 0.5693 - val_loss: 0.5741\n",
            "Epoch 17/50\n",
            "4219/4219 [==============================] - ETA: 0s - loss: 0.5684\n",
            "Epoch 00017: val_loss did not improve from 0.57240\n",
            "4219/4219 [==============================] - 6s 2ms/step - loss: 0.5684 - val_loss: 0.5735\n",
            "Epoch 18/50\n",
            "4216/4219 [============================>.] - ETA: 0s - loss: 0.5679\n",
            "Epoch 00018: val_loss improved from 0.57240 to 0.57107, saving model to output/0.5711.hdf5\n",
            "4219/4219 [==============================] - 6s 2ms/step - loss: 0.5679 - val_loss: 0.5711\n",
            "Epoch 19/50\n",
            "4183/4219 [============================>.] - ETA: 0s - loss: 0.5693\n",
            "Epoch 00019: val_loss improved from 0.57107 to 0.56998, saving model to output/0.5700.hdf5\n",
            "4219/4219 [==============================] - 6s 1ms/step - loss: 0.5693 - val_loss: 0.5700\n",
            "Epoch 20/50\n",
            "4214/4219 [============================>.] - ETA: 0s - loss: 0.5674\n",
            "Epoch 00020: val_loss did not improve from 0.56998\n",
            "4219/4219 [==============================] - 6s 2ms/step - loss: 0.5674 - val_loss: 0.5716\n",
            "Epoch 21/50\n",
            "4202/4219 [============================>.] - ETA: 0s - loss: 0.5665\n",
            "Epoch 00021: val_loss improved from 0.56998 to 0.56857, saving model to output/0.5686.hdf5\n",
            "4219/4219 [==============================] - 6s 1ms/step - loss: 0.5665 - val_loss: 0.5686\n",
            "Epoch 22/50\n",
            "4206/4219 [============================>.] - ETA: 0s - loss: 0.5667\n",
            "Epoch 00022: val_loss did not improve from 0.56857\n",
            "4219/4219 [==============================] - 6s 1ms/step - loss: 0.5667 - val_loss: 0.5687\n",
            "Epoch 23/50\n",
            "4218/4219 [============================>.] - ETA: 0s - loss: 0.5673\n",
            "Epoch 00023: val_loss did not improve from 0.56857\n",
            "4219/4219 [==============================] - 6s 1ms/step - loss: 0.5673 - val_loss: 0.5724\n",
            "Epoch 24/50\n",
            "4186/4219 [============================>.] - ETA: 0s - loss: 0.5670\n",
            "Epoch 00024: val_loss improved from 0.56857 to 0.56717, saving model to output/0.5672.hdf5\n",
            "4219/4219 [==============================] - 6s 2ms/step - loss: 0.5669 - val_loss: 0.5672\n",
            "Epoch 25/50\n",
            "4191/4219 [============================>.] - ETA: 0s - loss: 0.5649\n",
            "Epoch 00025: val_loss did not improve from 0.56717\n",
            "4219/4219 [==============================] - 6s 2ms/step - loss: 0.5649 - val_loss: 0.5692\n",
            "Epoch 26/50\n",
            "4189/4219 [============================>.] - ETA: 0s - loss: 0.5642\n",
            "Epoch 00026: val_loss did not improve from 0.56717\n",
            "4219/4219 [==============================] - 6s 2ms/step - loss: 0.5642 - val_loss: 0.5688\n",
            "Epoch 27/50\n",
            "4211/4219 [============================>.] - ETA: 0s - loss: 0.5647\n",
            "Epoch 00027: val_loss improved from 0.56717 to 0.56699, saving model to output/0.5670.hdf5\n",
            "4219/4219 [==============================] - 6s 2ms/step - loss: 0.5647 - val_loss: 0.5670\n",
            "Epoch 28/50\n",
            "4185/4219 [============================>.] - ETA: 0s - loss: 0.5634\n",
            "Epoch 00028: val_loss improved from 0.56699 to 0.56682, saving model to output/0.5668.hdf5\n",
            "4219/4219 [==============================] - 6s 2ms/step - loss: 0.5634 - val_loss: 0.5668\n",
            "Epoch 29/50\n",
            "4186/4219 [============================>.] - ETA: 0s - loss: 0.5627\n",
            "Epoch 00029: val_loss did not improve from 0.56682\n",
            "4219/4219 [==============================] - 6s 2ms/step - loss: 0.5627 - val_loss: 0.5676\n",
            "Epoch 30/50\n",
            "4194/4219 [============================>.] - ETA: 0s - loss: 0.5634\n",
            "Epoch 00030: val_loss did not improve from 0.56682\n",
            "4219/4219 [==============================] - 6s 2ms/step - loss: 0.5634 - val_loss: 0.5693\n",
            "Epoch 31/50\n",
            "4189/4219 [============================>.] - ETA: 0s - loss: 0.5639\n",
            "Epoch 00031: val_loss improved from 0.56682 to 0.56620, saving model to output/0.5662.hdf5\n",
            "4219/4219 [==============================] - 6s 2ms/step - loss: 0.5639 - val_loss: 0.5662\n",
            "Epoch 32/50\n",
            "4184/4219 [============================>.] - ETA: 0s - loss: 0.5614\n",
            "Epoch 00032: val_loss did not improve from 0.56620\n",
            "4219/4219 [==============================] - 6s 1ms/step - loss: 0.5614 - val_loss: 0.5669\n",
            "Epoch 33/50\n",
            "4199/4219 [============================>.] - ETA: 0s - loss: 0.5613\n",
            "Epoch 00033: val_loss did not improve from 0.56620\n",
            "4219/4219 [==============================] - 6s 2ms/step - loss: 0.5614 - val_loss: 0.5674\n",
            "Epoch 34/50\n",
            "4189/4219 [============================>.] - ETA: 0s - loss: 0.5606\n",
            "Epoch 00034: val_loss did not improve from 0.56620\n",
            "4219/4219 [==============================] - 6s 2ms/step - loss: 0.5606 - val_loss: 0.5682\n",
            "Epoch 35/50\n",
            "4219/4219 [==============================] - ETA: 0s - loss: 0.5613\n",
            "Epoch 00035: val_loss did not improve from 0.56620\n",
            "4219/4219 [==============================] - 6s 1ms/step - loss: 0.5613 - val_loss: 0.5693\n"
          ],
          "name": "stdout"
        },
        {
          "output_type": "execute_result",
          "data": {
            "text/plain": [
              "<tensorflow.python.keras.callbacks.History at 0x7f6dd0564128>"
            ]
          },
          "metadata": {
            "tags": []
          },
          "execution_count": 26
        }
      ]
    },
    {
      "cell_type": "code",
      "metadata": {
        "id": "bZ2tDNpFpxW7",
        "colab_type": "code",
        "colab": {}
      },
      "source": [
        "#nn.load_weights('output/0.5680.hdf5')"
      ],
      "execution_count": 29,
      "outputs": []
    },
    {
      "cell_type": "markdown",
      "metadata": {
        "id": "IThUfY7hpxXA",
        "colab_type": "text"
      },
      "source": [
        "### Log loss on the cross validation sample"
      ]
    },
    {
      "cell_type": "code",
      "metadata": {
        "id": "xkHeqp_UpxXE",
        "colab_type": "code",
        "colab": {
          "base_uri": "https://localhost:8080/",
          "height": 54
        },
        "outputId": "2f36bbe6-c38c-4b8a-e563-7c22843b38e1"
      },
      "source": [
        "# predict each track\n",
        "proba_nn = nn.predict_proba(validation_scale)"
      ],
      "execution_count": 30,
      "outputs": [
        {
          "output_type": "stream",
          "text": [
            "WARNING:tensorflow:`model.predict_proba()` is deprecated and will be removed after 2021-01-01. Please use `model.predict()` instead.\n"
          ],
          "name": "stdout"
        }
      ]
    },
    {
      "cell_type": "code",
      "metadata": {
        "id": "DqjVCQncpxXM",
        "colab_type": "code",
        "colab": {
          "base_uri": "https://localhost:8080/",
          "height": 34
        },
        "outputId": "2974547d-45ca-4e33-c7c0-4d6aec043e3d"
      },
      "source": [
        "log_loss(validation_data.Class.values, proba_nn)"
      ],
      "execution_count": 31,
      "outputs": [
        {
          "output_type": "execute_result",
          "data": {
            "text/plain": [
              "0.5692699768065895"
            ]
          },
          "metadata": {
            "tags": []
          },
          "execution_count": 31
        }
      ]
    },
    {
      "cell_type": "markdown",
      "metadata": {
        "id": "HEUqZ2w-pxXS",
        "colab_type": "text"
      },
      "source": [
        "# Quality metrics\n",
        "\n",
        "Plot ROC curves and signal efficiency dependece from particle mometum and transverse momentum values."
      ]
    },
    {
      "cell_type": "code",
      "metadata": {
        "id": "bZ8mStjmpxXV",
        "colab_type": "code",
        "colab": {}
      },
      "source": [
        "proba = proba_nn"
      ],
      "execution_count": 32,
      "outputs": []
    },
    {
      "cell_type": "code",
      "metadata": {
        "id": "eidYmhGspxXc",
        "colab_type": "code",
        "colab": {
          "base_uri": "https://localhost:8080/",
          "height": 416
        },
        "outputId": "139ed918-bf27-4876-d475-878820fc8168"
      },
      "source": [
        "utils.plot_roc_curves(proba, validation_data.Class.values)"
      ],
      "execution_count": 33,
      "outputs": [
        {
          "output_type": "display_data",
          "data": {
            "image/png": "[encoded data removed]",
            "text/plain": [
              "<Figure size 648x432 with 1 Axes>"
            ]
          },
          "metadata": {
            "tags": [],
            "needs_background": "light"
          }
        }
      ]
    },
    {
      "cell_type": "code",
      "metadata": {
        "id": "LDTQry-xpxXk",
        "colab_type": "code",
        "colab": {
          "base_uri": "https://localhost:8080/",
          "height": 765
        },
        "outputId": "1384e762-b7c7-4f60-ae4c-e326e531dbee"
      },
      "source": [
        "utils.plot_signal_efficiency_on_p(proba, validation_data.Class.values, validation_data.TrackP.values, 60, 50)\n",
        "plt.show()"
      ],
      "execution_count": 34,
      "outputs": [
        {
          "output_type": "display_data",
          "data": {
            "image/png": "[encoded data removed]",
            "text/plain": [
              "<Figure size 792x756 with 6 Axes>"
            ]
          },
          "metadata": {
            "tags": [],
            "needs_background": "light"
          }
        }
      ]
    },
    {
      "cell_type": "code",
      "metadata": {
        "id": "zLQsBigLpxYX",
        "colab_type": "code",
        "colab": {
          "base_uri": "https://localhost:8080/",
          "height": 765
        },
        "outputId": "40a791a8-4783-4b95-d9d0-ba34a7f2b7f5"
      },
      "source": [
        "utils.plot_signal_efficiency_on_pt(proba, validation_data.Class.values, validation_data.TrackPt.values, 60, 50)\n",
        "plt.show()"
      ],
      "execution_count": 35,
      "outputs": [
        {
          "output_type": "display_data",
          "data": {
            "image/png": "[encoded data removed]",
            "text/plain": [
              "<Figure size 792x756 with 6 Axes>"
            ]
          },
          "metadata": {
            "tags": [],
            "needs_background": "light"
          }
        }
      ]
    },
    {
      "cell_type": "markdown",
      "metadata": {
        "id": "_ujwZvRfpxY1",
        "colab_type": "text"
      },
      "source": [
        "# Prepare submission\n",
        "\n",
        "Select your best classifier and prepare submission file."
      ]
    },
    {
      "cell_type": "code",
      "metadata": {
        "id": "nBovWptlpxY4",
        "colab_type": "code",
        "colab": {}
      },
      "source": [
        "test = pandas.read_csv('test.csv.gz')"
      ],
      "execution_count": 36,
      "outputs": []
    },
    {
      "cell_type": "code",
      "metadata": {
        "id": "ejXkq_MQpxY-",
        "colab_type": "code",
        "colab": {}
      },
      "source": [
        "best_model = nn"
      ],
      "execution_count": 37,
      "outputs": []
    },
    {
      "cell_type": "code",
      "metadata": {
        "id": "ecNBw-rRpxZC",
        "colab_type": "code",
        "colab": {}
      },
      "source": [
        "test_scale = scaler.transform(test[features])"
      ],
      "execution_count": 38,
      "outputs": []
    },
    {
      "cell_type": "code",
      "metadata": {
        "id": "PO5Zc78NpxZV",
        "colab_type": "code",
        "colab": {
          "base_uri": "https://localhost:8080/",
          "height": 54
        },
        "outputId": "6326f166-3f46-4ffc-c97f-ab560c11f6d4"
      },
      "source": [
        "# predict test sample\n",
        "submit_proba = best_model.predict_proba(test_scale)\n",
        "submit_ids = test.ID"
      ],
      "execution_count": 39,
      "outputs": [
        {
          "output_type": "stream",
          "text": [
            "WARNING:tensorflow:`model.predict_proba()` is deprecated and will be removed after 2021-01-01. Please use `model.predict()` instead.\n"
          ],
          "name": "stdout"
        }
      ]
    },
    {
      "cell_type": "code",
      "metadata": {
        "id": "qR1Jy5HTpxZi",
        "colab_type": "code",
        "colab": {
          "base_uri": "https://localhost:8080/",
          "height": 34
        },
        "outputId": "6c6347b9-249b-4c03-837f-05c61206774b"
      },
      "source": [
        "from IPython.display import FileLink\n",
        "utils.create_solution(submit_ids, submit_proba, filename='submission_file.csv.gz')"
      ],
      "execution_count": 40,
      "outputs": [
        {
          "output_type": "execute_result",
          "data": {
            "text/html": [
              "<a href='submission_file.csv.gz' target='_blank'>submission_file.csv.gz</a><br>"
            ],
            "text/plain": [
              "/content/submission_file.csv.gz"
            ]
          },
          "metadata": {
            "tags": []
          },
          "execution_count": 40
        }
      ]
    },
    {
      "cell_type": "code",
      "metadata": {
        "id": "93cTz_y7pxZs",
        "colab_type": "code",
        "colab": {}
      },
      "source": [
        ""
      ],
      "execution_count": 40,
      "outputs": []
    }
  ]
}